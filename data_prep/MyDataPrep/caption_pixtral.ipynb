{
 "cells": [
  {
   "cell_type": "code",
   "execution_count": 1,
   "id": "fe5f039d",
   "metadata": {},
   "outputs": [],
   "source": [
    "import configparser\n",
    "\n",
    "config = configparser.ConfigParser()\n",
    "config.read('config.ini')\n",
    "\n",
    "api_key = config['API']['key']\n"
   ]
  },
  {
   "cell_type": "code",
   "execution_count": null,
   "id": "6fb69705",
   "metadata": {},
   "outputs": [
    {
     "name": "stdout",
     "output_type": "stream",
     "text": [
      "A cartoon bird with glasses stands against a pink, cloudy sky.\n"
     ]
    }
   ],
   "source": [
    "import os\n",
    "import base64\n",
    "from mistralai import Mistral\n",
    "from PIL import Image\n",
    "\n",
    "\n",
    "# # Récupérer la clé API à partir des variables d'environnement\n",
    "# api_key = os.environ[\"MISTRAL_API_KEY\"]\n",
    "\n",
    "# Spécifier le modèle\n",
    "model = \"pixtral-large-latest\"\n",
    "\n",
    "# Initialiser le client Mistral\n",
    "client = Mistral(api_key=api_key)\n",
    "\n",
    "# Chemin vers l'image locale\n",
    "image_path = r\"E:\\MiB\\MindBridge\\data\\natural-scenes-dataset\\webdataset_avg_split\\train\\subj11\\sample03.jpg\"\n",
    "\n",
    "# Lire et encoder l'image\n",
    "with open(image_path, \"rb\") as image_file:\n",
    "    encoded_image = base64.b64encode(image_file.read()).decode('utf-8')\n",
    "\n",
    "# Définir les messages pour le chat\n",
    "messages = [\n",
    "    {\n",
    "        \"role\": \"user\",\n",
    "        \"content\": [\n",
    "            {\"type\": \"text\", \"text\": \"Describe this image with less than 77 characters including spaces.\"},\n",
    "            {\n",
    "                \"type\": \"image_url\",\n",
    "                \"image_url\": {\n",
    "                    \"url\": f\"data:image/jpeg;base64,{encoded_image}\"\n",
    "                }\n",
    "            }\n",
    "        ]\n",
    "    }\n",
    "]\n",
    "\n",
    "# Obtenir la réponse du chat\n",
    "chat_response = client.chat.complete(\n",
    "    model=model,\n",
    "    messages=messages\n",
    ")\n",
    "\n",
    "# Afficher le contenu de la réponse\n",
    "print(chat_response.choices[0].message.content)"
   ]
  },
  {
   "cell_type": "code",
   "execution_count": 20,
   "id": "6c0a37b4",
   "metadata": {},
   "outputs": [],
   "source": [
    "def generate_caption(image_path):\n",
    "    # Spécifier le modèle\n",
    "    model = \"pixtral-large-latest\"\n",
    "\n",
    "    # Initialiser le client Mistral\n",
    "\n",
    "    \"\"\"Encode an image to base64.\"\"\"\n",
    "    with open(image_path, \"rb\") as image_file:\n",
    "        encoded_image = base64.b64encode(image_file.read()).decode('utf-8')\n",
    "    \n",
    "    # Définir les messages pour le chat\n",
    "    messages = [\n",
    "        {\n",
    "            \"role\": \"user\",\n",
    "            \"content\": [\n",
    "                {\"type\": \"text\", \"text\": \"Describe this image with less than 77 characters including spaces.\"},\n",
    "                {\n",
    "                    \"type\": \"image_url\",\n",
    "                    \"image_url\": {\n",
    "                        \"url\": f\"data:image/jpeg;base64,{encoded_image}\"\n",
    "                    }\n",
    "                }\n",
    "            ]\n",
    "        }\n",
    "    ]\n",
    "\n",
    "    # Obtenir la réponse du chat\n",
    "    chat_response = client.chat.complete(\n",
    "        model=model,\n",
    "        messages=messages\n",
    "    )\n",
    "    return(chat_response.choices[0].message.content)"
   ]
  },
  {
   "cell_type": "code",
   "execution_count": 23,
   "id": "862fdb95",
   "metadata": {},
   "outputs": [],
   "source": [
    "import os\n",
    "import pandas as pd\n",
    "\n",
    "image_folder = r\"E:\\MiB\\MindBridge\\data\\natural-scenes-dataset\\webdataset_avg_split\\train\\subj11\"\n",
    "\n",
    "captions_list = []\n",
    "sample_list = []\n",
    "\n",
    "for filename in os.listdir(image_folder):\n",
    "    sample_list.append(filename)\n",
    "    file_path = os.path.join(image_folder, filename)\n",
    "    captions_list.append(generate_caption(file_path))\n",
    "\n",
    "captions_dict = {'sampleID' : sample_list, 'caption' : captions_list}\n",
    "captions_df = pd.DataFrame(captions_dict)\n",
    "\n",
    "# Sauvegarde en CSV\n",
    "captions_df.to_csv(r\"E:\\MiB\\MindBridge\\data\\natural-scenes-dataset\\nsddata_stimuli\\stimuli\\nsd\\annotations\\captions77char.csv\", index=False)\n",
    "        \n"
   ]
  }
 ],
 "metadata": {
  "kernelspec": {
   "display_name": "Python 3",
   "language": "python",
   "name": "python3"
  },
  "language_info": {
   "codemirror_mode": {
    "name": "ipython",
    "version": 3
   },
   "file_extension": ".py",
   "mimetype": "text/x-python",
   "name": "python",
   "nbconvert_exporter": "python",
   "pygments_lexer": "ipython3",
   "version": "3.12.2"
  }
 },
 "nbformat": 4,
 "nbformat_minor": 5
}
