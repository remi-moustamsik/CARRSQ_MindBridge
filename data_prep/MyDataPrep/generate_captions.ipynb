{
 "cells": [
  {
   "cell_type": "code",
   "execution_count": 1,
   "metadata": {},
   "outputs": [],
   "source": [
    "import cv2\n",
    "import math\n",
    "import pandas as pd\n",
    "from moviepy import VideoFileClip\n",
    "import os"
   ]
  },
  {
   "cell_type": "code",
   "execution_count": 2,
   "metadata": {},
   "outputs": [
    {
     "name": "stdout",
     "output_type": "stream",
     "text": [
      "aucun module\n"
     ]
    }
   ],
   "source": [
    "import sys\n",
    "from moviepy import VideoFileClip\n",
    "\n",
    "# Additional authentication is required for Google Colab\n",
    "if \"google.colab\" in sys.modules:\n",
    "    # Authenticate user to Google Cloud\n",
    "    from google.colab import auth\n",
    "\n",
    "    auth.authenticate_user()\n",
    "else:\n",
    "    print('aucun module')"
   ]
  },
  {
   "cell_type": "code",
   "execution_count": 43,
   "metadata": {},
   "outputs": [],
   "source": [
    "# Define project information\n",
    "# PROJECT_ID = \"lunar-airport-418323\"  # @param {type:\"string\"}\n",
    "# LOCATION = \"us-central1\"  # @param {type:\"string\"}\n",
    "PROJECT_ID = \"pixar_bucket_test\"  # @param {type:\"string\"}\n",
    "LOCATION = \"us-central1\"  # @param {type:\"string\"}\n",
    "\n",
    "\n",
    "# Initialize Vertex AI\n",
    "import vertexai\n",
    "\n",
    "vertexai.init(project=PROJECT_ID, location=LOCATION)"
   ]
  },
  {
   "cell_type": "code",
   "execution_count": 12,
   "metadata": {},
   "outputs": [],
   "source": [
    "from vertexai.generative_models import (\n",
    "    GenerationConfig,\n",
    "    GenerativeModel,\n",
    "    Image,\n",
    "    Part,\n",
    ")"
   ]
  },
  {
   "cell_type": "code",
   "execution_count": 13,
   "metadata": {},
   "outputs": [],
   "source": [
    "# Define GenerationConfig with desired parameters\n",
    "generation_config = GenerationConfig(\n",
    "    temperature=0.0,  # Adjust temperature between 0.0 (deterministic) and 1.0 (more random)\n",
    "    #top_p=0.3,  # Adjust top_p between 0.0 (likely tokens) and 1.0 (considers all tokens)\n",
    "    #top_k= 32\n",
    ")"
   ]
  },
  {
   "cell_type": "code",
   "execution_count": null,
   "metadata": {},
   "outputs": [],
   "source": [
    "multimodal_model = GenerativeModel(\"gemini-1.0-pro-vision\")"
   ]
  },
  {
   "cell_type": "code",
   "execution_count": 15,
   "metadata": {},
   "outputs": [],
   "source": [
    "captions_list = []\n",
    "sample_list = []"
   ]
  },
  {
   "cell_type": "code",
   "execution_count": 23,
   "metadata": {},
   "outputs": [],
   "source": [
    "import os\n",
    "\n",
    "# Remplace par le chemin absolu vers ta clé\n",
    "os.environ[\"GOOGLE_APPLICATION_CREDENTIALS\"] = r\"E:\\MiB\\MindBridge\\data\\natural-scenes-dataset\\webdataset_avg_split\\train\\tokyo_griffin_463804_h6_aa546859ce5a.json\"\n"
   ]
  },
  {
   "cell_type": "code",
   "execution_count": 19,
   "metadata": {},
   "outputs": [
    {
     "name": "stdout",
     "output_type": "stream",
     "text": [
      "Authentification réussie !\n"
     ]
    }
   ],
   "source": [
    "from google.cloud import aiplatform\n",
    "aiplatform.init()\n",
    "print(\"Authentification réussie !\")\n"
   ]
  },
  {
   "cell_type": "code",
   "execution_count": 35,
   "metadata": {},
   "outputs": [
    {
     "ename": "Forbidden",
     "evalue": "403 GET https://storage.googleapis.com/storage/v1/b/pixar_bucket_test/o/sample0000000013%20-%20Copie.jpg?fields=name&prettyPrint=false: vertex-access@tokyo-griffin-463804-h6.iam.gserviceaccount.com does not have storage.objects.get access to the Google Cloud Storage object. Permission 'storage.objects.get' denied on resource (or it may not exist).",
     "output_type": "error",
     "traceback": [
      "\u001b[31m---------------------------------------------------------------------------\u001b[39m",
      "\u001b[31mForbidden\u001b[39m                                 Traceback (most recent call last)",
      "\u001b[36mCell\u001b[39m\u001b[36m \u001b[39m\u001b[32mIn[35]\u001b[39m\u001b[32m, line 6\u001b[39m\n\u001b[32m      3\u001b[39m bucket = client.bucket(\u001b[33m\"\u001b[39m\u001b[33mpixar_bucket_test\u001b[39m\u001b[33m\"\u001b[39m)\n\u001b[32m      4\u001b[39m blob = bucket.blob(\u001b[33m\"\u001b[39m\u001b[33msample0000000013 - Copie.jpg\u001b[39m\u001b[33m\"\u001b[39m)\n\u001b[32m----> \u001b[39m\u001b[32m6\u001b[39m \u001b[38;5;28;01mif\u001b[39;00m \u001b[43mblob\u001b[49m\u001b[43m.\u001b[49m\u001b[43mexists\u001b[49m\u001b[43m(\u001b[49m\u001b[43m)\u001b[49m:\n\u001b[32m      7\u001b[39m     \u001b[38;5;28mprint\u001b[39m(\u001b[33m\"\u001b[39m\u001b[33mLe fichier existe !\u001b[39m\u001b[33m\"\u001b[39m)\n\u001b[32m      8\u001b[39m \u001b[38;5;28;01melse\u001b[39;00m:\n",
      "\u001b[36mFile \u001b[39m\u001b[32mc:\\Users\\Rémi\\AppData\\Local\\Programs\\Python\\Python312\\Lib\\contextlib.py:81\u001b[39m, in \u001b[36mContextDecorator.__call__.<locals>.inner\u001b[39m\u001b[34m(*args, **kwds)\u001b[39m\n\u001b[32m     78\u001b[39m \u001b[38;5;129m@wraps\u001b[39m(func)\n\u001b[32m     79\u001b[39m \u001b[38;5;28;01mdef\u001b[39;00m\u001b[38;5;250m \u001b[39m\u001b[34minner\u001b[39m(*args, **kwds):\n\u001b[32m     80\u001b[39m     \u001b[38;5;28;01mwith\u001b[39;00m \u001b[38;5;28mself\u001b[39m._recreate_cm():\n\u001b[32m---> \u001b[39m\u001b[32m81\u001b[39m         \u001b[38;5;28;01mreturn\u001b[39;00m \u001b[43mfunc\u001b[49m\u001b[43m(\u001b[49m\u001b[43m*\u001b[49m\u001b[43margs\u001b[49m\u001b[43m,\u001b[49m\u001b[43m \u001b[49m\u001b[43m*\u001b[49m\u001b[43m*\u001b[49m\u001b[43mkwds\u001b[49m\u001b[43m)\u001b[49m\n",
      "\u001b[36mFile \u001b[39m\u001b[32mc:\\Users\\Rémi\\AppData\\Local\\Programs\\Python\\Python312\\Lib\\site-packages\\google\\cloud\\storage\\blob.py:738\u001b[39m, in \u001b[36mBlob.exists\u001b[39m\u001b[34m(self, client, if_etag_match, if_etag_not_match, if_generation_match, if_generation_not_match, if_metageneration_match, if_metageneration_not_match, timeout, retry, soft_deleted)\u001b[39m\n\u001b[32m    731\u001b[39m _add_etag_match_headers(\n\u001b[32m    732\u001b[39m     headers, if_etag_match=if_etag_match, if_etag_not_match=if_etag_not_match\n\u001b[32m    733\u001b[39m )\n\u001b[32m    735\u001b[39m \u001b[38;5;28;01mtry\u001b[39;00m:\n\u001b[32m    736\u001b[39m     \u001b[38;5;66;03m# We intentionally pass `_target_object=None` since fields=name\u001b[39;00m\n\u001b[32m    737\u001b[39m     \u001b[38;5;66;03m# would limit the local properties.\u001b[39;00m\n\u001b[32m--> \u001b[39m\u001b[32m738\u001b[39m     \u001b[43mclient\u001b[49m\u001b[43m.\u001b[49m\u001b[43m_get_resource\u001b[49m\u001b[43m(\u001b[49m\n\u001b[32m    739\u001b[39m \u001b[43m        \u001b[49m\u001b[38;5;28;43mself\u001b[39;49m\u001b[43m.\u001b[49m\u001b[43mpath\u001b[49m\u001b[43m,\u001b[49m\n\u001b[32m    740\u001b[39m \u001b[43m        \u001b[49m\u001b[43mquery_params\u001b[49m\u001b[43m=\u001b[49m\u001b[43mquery_params\u001b[49m\u001b[43m,\u001b[49m\n\u001b[32m    741\u001b[39m \u001b[43m        \u001b[49m\u001b[43mheaders\u001b[49m\u001b[43m=\u001b[49m\u001b[43mheaders\u001b[49m\u001b[43m,\u001b[49m\n\u001b[32m    742\u001b[39m \u001b[43m        \u001b[49m\u001b[43mtimeout\u001b[49m\u001b[43m=\u001b[49m\u001b[43mtimeout\u001b[49m\u001b[43m,\u001b[49m\n\u001b[32m    743\u001b[39m \u001b[43m        \u001b[49m\u001b[43mretry\u001b[49m\u001b[43m=\u001b[49m\u001b[43mretry\u001b[49m\u001b[43m,\u001b[49m\n\u001b[32m    744\u001b[39m \u001b[43m        \u001b[49m\u001b[43m_target_object\u001b[49m\u001b[43m=\u001b[49m\u001b[38;5;28;43;01mNone\u001b[39;49;00m\u001b[43m,\u001b[49m\n\u001b[32m    745\u001b[39m \u001b[43m    \u001b[49m\u001b[43m)\u001b[49m\n\u001b[32m    746\u001b[39m \u001b[38;5;28;01mexcept\u001b[39;00m NotFound:\n\u001b[32m    747\u001b[39m     \u001b[38;5;66;03m# NOTE: This will not fail immediately in a batch. However, when\u001b[39;00m\n\u001b[32m    748\u001b[39m     \u001b[38;5;66;03m#       Batch.finish() is called, the resulting `NotFound` will be\u001b[39;00m\n\u001b[32m    749\u001b[39m     \u001b[38;5;66;03m#       raised.\u001b[39;00m\n\u001b[32m    750\u001b[39m     \u001b[38;5;28;01mreturn\u001b[39;00m \u001b[38;5;28;01mFalse\u001b[39;00m\n",
      "\u001b[36mFile \u001b[39m\u001b[32mc:\\Users\\Rémi\\AppData\\Local\\Programs\\Python\\Python312\\Lib\\site-packages\\google\\cloud\\storage\\client.py:474\u001b[39m, in \u001b[36mClient._get_resource\u001b[39m\u001b[34m(self, path, query_params, headers, timeout, retry, _target_object)\u001b[39m\n\u001b[32m    418\u001b[39m \u001b[38;5;28;01mdef\u001b[39;00m\u001b[38;5;250m \u001b[39m\u001b[34m_get_resource\u001b[39m(\n\u001b[32m    419\u001b[39m     \u001b[38;5;28mself\u001b[39m,\n\u001b[32m    420\u001b[39m     path,\n\u001b[32m   (...)\u001b[39m\u001b[32m    425\u001b[39m     _target_object=\u001b[38;5;28;01mNone\u001b[39;00m,\n\u001b[32m    426\u001b[39m ):\n\u001b[32m    427\u001b[39m \u001b[38;5;250m    \u001b[39m\u001b[33;03m\"\"\"Helper for bucket / blob methods making API 'GET' calls.\u001b[39;00m\n\u001b[32m    428\u001b[39m \n\u001b[32m    429\u001b[39m \u001b[33;03m    Args:\u001b[39;00m\n\u001b[32m   (...)\u001b[39m\u001b[32m    472\u001b[39m \u001b[33;03m            If the bucket is not found.\u001b[39;00m\n\u001b[32m    473\u001b[39m \u001b[33;03m    \"\"\"\u001b[39;00m\n\u001b[32m--> \u001b[39m\u001b[32m474\u001b[39m     \u001b[38;5;28;01mreturn\u001b[39;00m \u001b[38;5;28;43mself\u001b[39;49m\u001b[43m.\u001b[49m\u001b[43m_connection\u001b[49m\u001b[43m.\u001b[49m\u001b[43mapi_request\u001b[49m\u001b[43m(\u001b[49m\n\u001b[32m    475\u001b[39m \u001b[43m        \u001b[49m\u001b[43mmethod\u001b[49m\u001b[43m=\u001b[49m\u001b[33;43m\"\u001b[39;49m\u001b[33;43mGET\u001b[39;49m\u001b[33;43m\"\u001b[39;49m\u001b[43m,\u001b[49m\n\u001b[32m    476\u001b[39m \u001b[43m        \u001b[49m\u001b[43mpath\u001b[49m\u001b[43m=\u001b[49m\u001b[43mpath\u001b[49m\u001b[43m,\u001b[49m\n\u001b[32m    477\u001b[39m \u001b[43m        \u001b[49m\u001b[43mquery_params\u001b[49m\u001b[43m=\u001b[49m\u001b[43mquery_params\u001b[49m\u001b[43m,\u001b[49m\n\u001b[32m    478\u001b[39m \u001b[43m        \u001b[49m\u001b[43mheaders\u001b[49m\u001b[43m=\u001b[49m\u001b[43mheaders\u001b[49m\u001b[43m,\u001b[49m\n\u001b[32m    479\u001b[39m \u001b[43m        \u001b[49m\u001b[43mtimeout\u001b[49m\u001b[43m=\u001b[49m\u001b[43mtimeout\u001b[49m\u001b[43m,\u001b[49m\n\u001b[32m    480\u001b[39m \u001b[43m        \u001b[49m\u001b[43mretry\u001b[49m\u001b[43m=\u001b[49m\u001b[43mretry\u001b[49m\u001b[43m,\u001b[49m\n\u001b[32m    481\u001b[39m \u001b[43m        \u001b[49m\u001b[43m_target_object\u001b[49m\u001b[43m=\u001b[49m\u001b[43m_target_object\u001b[49m\u001b[43m,\u001b[49m\n\u001b[32m    482\u001b[39m \u001b[43m    \u001b[49m\u001b[43m)\u001b[49m\n",
      "\u001b[36mFile \u001b[39m\u001b[32mc:\\Users\\Rémi\\AppData\\Local\\Programs\\Python\\Python312\\Lib\\site-packages\\google\\cloud\\storage\\_http.py:90\u001b[39m, in \u001b[36mConnection.api_request\u001b[39m\u001b[34m(self, *args, **kwargs)\u001b[39m\n\u001b[32m     88\u001b[39m     \u001b[38;5;28;01mif\u001b[39;00m retry:\n\u001b[32m     89\u001b[39m         call = retry(call)\n\u001b[32m---> \u001b[39m\u001b[32m90\u001b[39m \u001b[38;5;28;01mreturn\u001b[39;00m \u001b[43mcall\u001b[49m\u001b[43m(\u001b[49m\u001b[43m)\u001b[49m\n",
      "\u001b[36mFile \u001b[39m\u001b[32mc:\\Users\\Rémi\\AppData\\Local\\Programs\\Python\\Python312\\Lib\\site-packages\\google\\api_core\\retry\\retry_unary.py:294\u001b[39m, in \u001b[36mRetry.__call__.<locals>.retry_wrapped_func\u001b[39m\u001b[34m(*args, **kwargs)\u001b[39m\n\u001b[32m    290\u001b[39m target = functools.partial(func, *args, **kwargs)\n\u001b[32m    291\u001b[39m sleep_generator = exponential_sleep_generator(\n\u001b[32m    292\u001b[39m     \u001b[38;5;28mself\u001b[39m._initial, \u001b[38;5;28mself\u001b[39m._maximum, multiplier=\u001b[38;5;28mself\u001b[39m._multiplier\n\u001b[32m    293\u001b[39m )\n\u001b[32m--> \u001b[39m\u001b[32m294\u001b[39m \u001b[38;5;28;01mreturn\u001b[39;00m \u001b[43mretry_target\u001b[49m\u001b[43m(\u001b[49m\n\u001b[32m    295\u001b[39m \u001b[43m    \u001b[49m\u001b[43mtarget\u001b[49m\u001b[43m,\u001b[49m\n\u001b[32m    296\u001b[39m \u001b[43m    \u001b[49m\u001b[38;5;28;43mself\u001b[39;49m\u001b[43m.\u001b[49m\u001b[43m_predicate\u001b[49m\u001b[43m,\u001b[49m\n\u001b[32m    297\u001b[39m \u001b[43m    \u001b[49m\u001b[43msleep_generator\u001b[49m\u001b[43m,\u001b[49m\n\u001b[32m    298\u001b[39m \u001b[43m    \u001b[49m\u001b[43mtimeout\u001b[49m\u001b[43m=\u001b[49m\u001b[38;5;28;43mself\u001b[39;49m\u001b[43m.\u001b[49m\u001b[43m_timeout\u001b[49m\u001b[43m,\u001b[49m\n\u001b[32m    299\u001b[39m \u001b[43m    \u001b[49m\u001b[43mon_error\u001b[49m\u001b[43m=\u001b[49m\u001b[43mon_error\u001b[49m\u001b[43m,\u001b[49m\n\u001b[32m    300\u001b[39m \u001b[43m\u001b[49m\u001b[43m)\u001b[49m\n",
      "\u001b[36mFile \u001b[39m\u001b[32mc:\\Users\\Rémi\\AppData\\Local\\Programs\\Python\\Python312\\Lib\\site-packages\\google\\api_core\\retry\\retry_unary.py:156\u001b[39m, in \u001b[36mretry_target\u001b[39m\u001b[34m(target, predicate, sleep_generator, timeout, on_error, exception_factory, **kwargs)\u001b[39m\n\u001b[32m    152\u001b[39m \u001b[38;5;66;03m# pylint: disable=broad-except\u001b[39;00m\n\u001b[32m    153\u001b[39m \u001b[38;5;66;03m# This function explicitly must deal with broad exceptions.\u001b[39;00m\n\u001b[32m    154\u001b[39m \u001b[38;5;28;01mexcept\u001b[39;00m \u001b[38;5;167;01mException\u001b[39;00m \u001b[38;5;28;01mas\u001b[39;00m exc:\n\u001b[32m    155\u001b[39m     \u001b[38;5;66;03m# defer to shared logic for handling errors\u001b[39;00m\n\u001b[32m--> \u001b[39m\u001b[32m156\u001b[39m     next_sleep = \u001b[43m_retry_error_helper\u001b[49m\u001b[43m(\u001b[49m\n\u001b[32m    157\u001b[39m \u001b[43m        \u001b[49m\u001b[43mexc\u001b[49m\u001b[43m,\u001b[49m\n\u001b[32m    158\u001b[39m \u001b[43m        \u001b[49m\u001b[43mdeadline\u001b[49m\u001b[43m,\u001b[49m\n\u001b[32m    159\u001b[39m \u001b[43m        \u001b[49m\u001b[43msleep_iter\u001b[49m\u001b[43m,\u001b[49m\n\u001b[32m    160\u001b[39m \u001b[43m        \u001b[49m\u001b[43merror_list\u001b[49m\u001b[43m,\u001b[49m\n\u001b[32m    161\u001b[39m \u001b[43m        \u001b[49m\u001b[43mpredicate\u001b[49m\u001b[43m,\u001b[49m\n\u001b[32m    162\u001b[39m \u001b[43m        \u001b[49m\u001b[43mon_error\u001b[49m\u001b[43m,\u001b[49m\n\u001b[32m    163\u001b[39m \u001b[43m        \u001b[49m\u001b[43mexception_factory\u001b[49m\u001b[43m,\u001b[49m\n\u001b[32m    164\u001b[39m \u001b[43m        \u001b[49m\u001b[43mtimeout\u001b[49m\u001b[43m,\u001b[49m\n\u001b[32m    165\u001b[39m \u001b[43m    \u001b[49m\u001b[43m)\u001b[49m\n\u001b[32m    166\u001b[39m     \u001b[38;5;66;03m# if exception not raised, sleep before next attempt\u001b[39;00m\n\u001b[32m    167\u001b[39m     time.sleep(next_sleep)\n",
      "\u001b[36mFile \u001b[39m\u001b[32mc:\\Users\\Rémi\\AppData\\Local\\Programs\\Python\\Python312\\Lib\\site-packages\\google\\api_core\\retry\\retry_base.py:214\u001b[39m, in \u001b[36m_retry_error_helper\u001b[39m\u001b[34m(exc, deadline, sleep_iterator, error_list, predicate_fn, on_error_fn, exc_factory_fn, original_timeout)\u001b[39m\n\u001b[32m    208\u001b[39m \u001b[38;5;28;01mif\u001b[39;00m \u001b[38;5;129;01mnot\u001b[39;00m predicate_fn(exc):\n\u001b[32m    209\u001b[39m     final_exc, source_exc = exc_factory_fn(\n\u001b[32m    210\u001b[39m         error_list,\n\u001b[32m    211\u001b[39m         RetryFailureReason.NON_RETRYABLE_ERROR,\n\u001b[32m    212\u001b[39m         original_timeout,\n\u001b[32m    213\u001b[39m     )\n\u001b[32m--> \u001b[39m\u001b[32m214\u001b[39m     \u001b[38;5;28;01mraise\u001b[39;00m final_exc \u001b[38;5;28;01mfrom\u001b[39;00m\u001b[38;5;250m \u001b[39m\u001b[34;01msource_exc\u001b[39;00m\n\u001b[32m    215\u001b[39m \u001b[38;5;28;01mif\u001b[39;00m on_error_fn \u001b[38;5;129;01mis\u001b[39;00m \u001b[38;5;129;01mnot\u001b[39;00m \u001b[38;5;28;01mNone\u001b[39;00m:\n\u001b[32m    216\u001b[39m     on_error_fn(exc)\n",
      "\u001b[36mFile \u001b[39m\u001b[32mc:\\Users\\Rémi\\AppData\\Local\\Programs\\Python\\Python312\\Lib\\site-packages\\google\\api_core\\retry\\retry_unary.py:147\u001b[39m, in \u001b[36mretry_target\u001b[39m\u001b[34m(target, predicate, sleep_generator, timeout, on_error, exception_factory, **kwargs)\u001b[39m\n\u001b[32m    145\u001b[39m \u001b[38;5;28;01mwhile\u001b[39;00m \u001b[38;5;28;01mTrue\u001b[39;00m:\n\u001b[32m    146\u001b[39m     \u001b[38;5;28;01mtry\u001b[39;00m:\n\u001b[32m--> \u001b[39m\u001b[32m147\u001b[39m         result = \u001b[43mtarget\u001b[49m\u001b[43m(\u001b[49m\u001b[43m)\u001b[49m\n\u001b[32m    148\u001b[39m         \u001b[38;5;28;01mif\u001b[39;00m inspect.isawaitable(result):\n\u001b[32m    149\u001b[39m             warnings.warn(_ASYNC_RETRY_WARNING)\n",
      "\u001b[36mFile \u001b[39m\u001b[32mc:\\Users\\Rémi\\AppData\\Local\\Programs\\Python\\Python312\\Lib\\site-packages\\google\\cloud\\_http\\__init__.py:494\u001b[39m, in \u001b[36mJSONConnection.api_request\u001b[39m\u001b[34m(self, method, path, query_params, data, content_type, headers, api_base_url, api_version, expect_json, _target_object, timeout, extra_api_info)\u001b[39m\n\u001b[32m    482\u001b[39m response = \u001b[38;5;28mself\u001b[39m._make_request(\n\u001b[32m    483\u001b[39m     method=method,\n\u001b[32m    484\u001b[39m     url=url,\n\u001b[32m   (...)\u001b[39m\u001b[32m    490\u001b[39m     extra_api_info=extra_api_info,\n\u001b[32m    491\u001b[39m )\n\u001b[32m    493\u001b[39m \u001b[38;5;28;01mif\u001b[39;00m \u001b[38;5;129;01mnot\u001b[39;00m \u001b[32m200\u001b[39m <= response.status_code < \u001b[32m300\u001b[39m:\n\u001b[32m--> \u001b[39m\u001b[32m494\u001b[39m     \u001b[38;5;28;01mraise\u001b[39;00m exceptions.from_http_response(response)\n\u001b[32m    496\u001b[39m \u001b[38;5;28;01mif\u001b[39;00m expect_json \u001b[38;5;129;01mand\u001b[39;00m response.content:\n\u001b[32m    497\u001b[39m     \u001b[38;5;28;01mreturn\u001b[39;00m response.json()\n",
      "\u001b[31mForbidden\u001b[39m: 403 GET https://storage.googleapis.com/storage/v1/b/pixar_bucket_test/o/sample0000000013%20-%20Copie.jpg?fields=name&prettyPrint=false: vertex-access@tokyo-griffin-463804-h6.iam.gserviceaccount.com does not have storage.objects.get access to the Google Cloud Storage object. Permission 'storage.objects.get' denied on resource (or it may not exist)."
     ]
    }
   ],
   "source": [
    "from google.cloud import storage\n",
    "client = storage.Client()\n",
    "bucket = client.bucket(\"pixar_bucket_test\")\n",
    "blob = bucket.blob(\"sample0000000013 - Copie.jpg\")\n",
    "\n",
    "if blob.exists():\n",
    "    print(\"Le fichier existe !\")\n",
    "else:\n",
    "    print(\"Fichier introuvable.\")\n"
   ]
  },
  {
   "cell_type": "code",
   "execution_count": null,
   "metadata": {},
   "outputs": [
    {
     "name": "stdout",
     "output_type": "stream",
     "text": [
      "Erreur pour sample00000000526: 'list' object has no attribute 'get'\n",
      "Erreur pour sample00000000527: 'list' object has no attribute 'get'\n",
      "Erreur pour sample00000000528: 'list' object has no attribute 'get'\n",
      "Erreur pour sample00000000529: 'list' object has no attribute 'get'\n",
      "Erreur pour sample00000000530: 'list' object has no attribute 'get'\n",
      "Erreur pour sample00000000531: 'list' object has no attribute 'get'\n",
      "Erreur pour sample00000000532: 'list' object has no attribute 'get'\n",
      "Erreur pour sample00000000533: 'list' object has no attribute 'get'\n",
      "Erreur pour sample00000000534: 'list' object has no attribute 'get'\n",
      "Erreur pour sample00000000535: 'list' object has no attribute 'get'\n",
      "Erreur pour sample00000000536: 'list' object has no attribute 'get'\n",
      "Erreur pour sample00000000537: 'list' object has no attribute 'get'\n",
      "Erreur pour sample00000000538: 'list' object has no attribute 'get'\n",
      "Erreur pour sample00000000539: 'list' object has no attribute 'get'\n",
      "Erreur pour sample00000000540: 'list' object has no attribute 'get'\n",
      "Erreur pour sample00000000541: 'list' object has no attribute 'get'\n",
      "Erreur pour sample00000000542: 'list' object has no attribute 'get'\n",
      "Erreur pour sample00000000543: 'list' object has no attribute 'get'\n",
      "Erreur pour sample00000000544: 'list' object has no attribute 'get'\n",
      "Erreur pour sample00000000545: 'list' object has no attribute 'get'\n",
      "Erreur pour sample00000000546: 'list' object has no attribute 'get'\n",
      "Erreur pour sample00000000547: 'list' object has no attribute 'get'\n",
      "Erreur pour sample00000000548: 'list' object has no attribute 'get'\n",
      "Erreur pour sample00000000549: 'list' object has no attribute 'get'\n",
      "Erreur pour sample00000000550: 'list' object has no attribute 'get'\n",
      "Erreur pour sample00000000551: 'list' object has no attribute 'get'\n",
      "Erreur pour sample00000000552: 'list' object has no attribute 'get'\n",
      "Erreur pour sample00000000553: 'list' object has no attribute 'get'\n",
      "Erreur pour sample00000000554: 'list' object has no attribute 'get'\n",
      "Erreur pour sample00000000555: 'list' object has no attribute 'get'\n",
      "Erreur pour sample00000000556: 'list' object has no attribute 'get'\n",
      "Erreur pour sample00000000557: 'list' object has no attribute 'get'\n",
      "Erreur pour sample00000000558: 'list' object has no attribute 'get'\n",
      "Erreur pour sample00000000559: 'list' object has no attribute 'get'\n",
      "Erreur pour sample00000000560: 'list' object has no attribute 'get'\n",
      "Erreur pour sample00000000561: 'list' object has no attribute 'get'\n",
      "Erreur pour sample00000000562: 'list' object has no attribute 'get'\n",
      "Erreur pour sample00000000563: 'list' object has no attribute 'get'\n",
      "Erreur pour sample00000000564: 'list' object has no attribute 'get'\n",
      "Erreur pour sample00000000565: 'list' object has no attribute 'get'\n",
      "Erreur pour sample00000000566: 'list' object has no attribute 'get'\n",
      "Erreur pour sample00000000567: 'list' object has no attribute 'get'\n",
      "Erreur pour sample00000000568: 'list' object has no attribute 'get'\n",
      "Erreur pour sample00000000569: 'list' object has no attribute 'get'\n",
      "Erreur pour sample00000000570: 'list' object has no attribute 'get'\n",
      "Erreur pour sample00000000571: 'list' object has no attribute 'get'\n",
      "Erreur pour sample00000000572: 'list' object has no attribute 'get'\n",
      "Erreur pour sample00000000573: 'list' object has no attribute 'get'\n",
      "Erreur pour sample00000000574: 'list' object has no attribute 'get'\n",
      "Erreur pour sample00000000575: 'list' object has no attribute 'get'\n",
      "Erreur pour sample00000000576: 'list' object has no attribute 'get'\n",
      "Erreur pour sample00000000577: 'list' object has no attribute 'get'\n",
      "Erreur pour sample00000000578: 'list' object has no attribute 'get'\n",
      "Erreur pour sample00000000579: 'list' object has no attribute 'get'\n",
      "Erreur pour sample00000000580: 'list' object has no attribute 'get'\n",
      "Erreur pour sample00000000581: 'list' object has no attribute 'get'\n",
      "Erreur pour sample00000000582: 'list' object has no attribute 'get'\n",
      "Erreur pour sample00000000583: 'list' object has no attribute 'get'\n",
      "Erreur pour sample00000000584: 'list' object has no attribute 'get'\n",
      "Erreur pour sample00000000585: 'list' object has no attribute 'get'\n",
      "Erreur pour sample00000000586: 'list' object has no attribute 'get'\n",
      "Erreur pour sample00000000587: 'list' object has no attribute 'get'\n",
      "Erreur pour sample00000000588: 'list' object has no attribute 'get'\n",
      "Erreur pour sample00000000589: 'list' object has no attribute 'get'\n",
      "Erreur pour sample00000000590: 'list' object has no attribute 'get'\n",
      "Erreur pour sample00000000591: 'list' object has no attribute 'get'\n",
      "Erreur pour sample00000000592: 'list' object has no attribute 'get'\n",
      "Erreur pour sample00000000593: 'list' object has no attribute 'get'\n",
      "Erreur pour sample00000000594: 'list' object has no attribute 'get'\n",
      "Erreur pour sample00000000595: 'list' object has no attribute 'get'\n",
      "Erreur pour sample00000000596: 'list' object has no attribute 'get'\n",
      "Erreur pour sample00000000597: 'list' object has no attribute 'get'\n",
      "Erreur pour sample00000000598: 'list' object has no attribute 'get'\n",
      "Erreur pour sample00000000599: 'list' object has no attribute 'get'\n",
      "Erreur pour sample00000000600: 'list' object has no attribute 'get'\n",
      "Erreur pour sample00000000601: 'list' object has no attribute 'get'\n",
      "Erreur pour sample00000000602: 'list' object has no attribute 'get'\n",
      "Erreur pour sample00000000603: 'list' object has no attribute 'get'\n",
      "Erreur pour sample00000000604: 'list' object has no attribute 'get'\n",
      "Erreur pour sample00000000605: 'list' object has no attribute 'get'\n",
      "Erreur pour sample00000000606: 'list' object has no attribute 'get'\n",
      "Erreur pour sample00000000607: 'list' object has no attribute 'get'\n",
      "Erreur pour sample00000000608: 'list' object has no attribute 'get'\n",
      "Erreur pour sample00000000609: 'list' object has no attribute 'get'\n",
      "Erreur pour sample00000000610: 'list' object has no attribute 'get'\n",
      "Erreur pour sample00000000611: 'list' object has no attribute 'get'\n",
      "Erreur pour sample00000000612: 'list' object has no attribute 'get'\n",
      "Erreur pour sample00000000613: 'list' object has no attribute 'get'\n",
      "Erreur pour sample00000000614: 'list' object has no attribute 'get'\n",
      "Erreur pour sample00000000615: 'list' object has no attribute 'get'\n",
      "Erreur pour sample00000000616: 'list' object has no attribute 'get'\n",
      "Erreur pour sample00000000617: 'list' object has no attribute 'get'\n",
      "Erreur pour sample00000000618: 'list' object has no attribute 'get'\n",
      "Erreur pour sample00000000619: 'list' object has no attribute 'get'\n",
      "Erreur pour sample00000000620: 'list' object has no attribute 'get'\n",
      "Erreur pour sample00000000621: 'list' object has no attribute 'get'\n",
      "Erreur pour sample00000000622: 'list' object has no attribute 'get'\n",
      "Erreur pour sample00000000623: 'list' object has no attribute 'get'\n",
      "Erreur pour sample00000000624: 'list' object has no attribute 'get'\n",
      "Erreur pour sample00000000625: 'list' object has no attribute 'get'\n",
      "Erreur pour sample00000000626: 'list' object has no attribute 'get'\n",
      "Erreur pour sample00000000627: 'list' object has no attribute 'get'\n"
     ]
    },
    {
     "ename": "KeyboardInterrupt",
     "evalue": "",
     "output_type": "error",
     "traceback": [
      "\u001b[31m---------------------------------------------------------------------------\u001b[39m",
      "\u001b[31mKeyboardInterrupt\u001b[39m                         Traceback (most recent call last)",
      "\u001b[36mCell\u001b[39m\u001b[36m \u001b[39m\u001b[32mIn[50]\u001b[39m\u001b[32m, line 16\u001b[39m\n\u001b[32m     14\u001b[39m responses = multimodal_model.generate_content(contents, generation_config=generation_config, stream=\u001b[38;5;28;01mTrue\u001b[39;00m)\n\u001b[32m     15\u001b[39m \u001b[38;5;66;03m# On convertit le générateur en liste pour pouvoir l'utiliser plusieurs fois\u001b[39;00m\n\u001b[32m---> \u001b[39m\u001b[32m16\u001b[39m responses_list = \u001b[38;5;28;43mlist\u001b[39;49m\u001b[43m(\u001b[49m\u001b[43mresponses\u001b[49m\u001b[43m)\u001b[49m\n\u001b[32m     17\u001b[39m \u001b[38;5;28;01mfor\u001b[39;00m response \u001b[38;5;129;01min\u001b[39;00m responses_list:\n\u001b[32m     18\u001b[39m     \u001b[38;5;28;01mif\u001b[39;00m \u001b[38;5;28mhasattr\u001b[39m(response, \u001b[33m\"\u001b[39m\u001b[33mtext\u001b[39m\u001b[33m\"\u001b[39m):\n",
      "\u001b[36mFile \u001b[39m\u001b[32mc:\\Users\\Rémi\\AppData\\Local\\Programs\\Python\\Python312\\Lib\\site-packages\\vertexai\\generative_models\\_generative_models.py:861\u001b[39m, in \u001b[36m_GenerativeModel._generate_content_streaming\u001b[39m\u001b[34m(self, contents, generation_config, safety_settings, tools, tool_config, labels)\u001b[39m\n\u001b[32m    834\u001b[39m \u001b[38;5;250m\u001b[39m\u001b[33;03m\"\"\"Generates content.\u001b[39;00m\n\u001b[32m    835\u001b[39m \n\u001b[32m    836\u001b[39m \u001b[33;03mArgs:\u001b[39;00m\n\u001b[32m   (...)\u001b[39m\u001b[32m    851\u001b[39m \u001b[33;03m    A stream of GenerationResponse objects\u001b[39;00m\n\u001b[32m    852\u001b[39m \u001b[33;03m\"\"\"\u001b[39;00m\n\u001b[32m    853\u001b[39m request = \u001b[38;5;28mself\u001b[39m._prepare_request(\n\u001b[32m    854\u001b[39m     contents=contents,\n\u001b[32m    855\u001b[39m     generation_config=generation_config,\n\u001b[32m   (...)\u001b[39m\u001b[32m    859\u001b[39m     labels=labels,\n\u001b[32m    860\u001b[39m )\n\u001b[32m--> \u001b[39m\u001b[32m861\u001b[39m response_stream = \u001b[38;5;28;43mself\u001b[39;49m\u001b[43m.\u001b[49m\u001b[43m_prediction_client\u001b[49m\u001b[43m.\u001b[49m\u001b[43mstream_generate_content\u001b[49m\u001b[43m(\u001b[49m\n\u001b[32m    862\u001b[39m \u001b[43m    \u001b[49m\u001b[43mrequest\u001b[49m\u001b[43m=\u001b[49m\u001b[43mrequest\u001b[49m\n\u001b[32m    863\u001b[39m \u001b[43m\u001b[49m\u001b[43m)\u001b[49m\n\u001b[32m    864\u001b[39m \u001b[38;5;28;01mfor\u001b[39;00m chunk \u001b[38;5;129;01min\u001b[39;00m response_stream:\n\u001b[32m    865\u001b[39m     \u001b[38;5;28;01myield\u001b[39;00m \u001b[38;5;28mself\u001b[39m._parse_response(chunk)\n",
      "\u001b[36mFile \u001b[39m\u001b[32mc:\\Users\\Rémi\\AppData\\Local\\Programs\\Python\\Python312\\Lib\\site-packages\\google\\cloud\\aiplatform_v1\\services\\prediction_service\\client.py:2289\u001b[39m, in \u001b[36mPredictionServiceClient.stream_generate_content\u001b[39m\u001b[34m(self, request, model, contents, retry, timeout, metadata)\u001b[39m\n\u001b[32m   2286\u001b[39m \u001b[38;5;28mself\u001b[39m._validate_universe_domain()\n\u001b[32m   2288\u001b[39m \u001b[38;5;66;03m# Send the request.\u001b[39;00m\n\u001b[32m-> \u001b[39m\u001b[32m2289\u001b[39m response = \u001b[43mrpc\u001b[49m\u001b[43m(\u001b[49m\n\u001b[32m   2290\u001b[39m \u001b[43m    \u001b[49m\u001b[43mrequest\u001b[49m\u001b[43m,\u001b[49m\n\u001b[32m   2291\u001b[39m \u001b[43m    \u001b[49m\u001b[43mretry\u001b[49m\u001b[43m=\u001b[49m\u001b[43mretry\u001b[49m\u001b[43m,\u001b[49m\n\u001b[32m   2292\u001b[39m \u001b[43m    \u001b[49m\u001b[43mtimeout\u001b[49m\u001b[43m=\u001b[49m\u001b[43mtimeout\u001b[49m\u001b[43m,\u001b[49m\n\u001b[32m   2293\u001b[39m \u001b[43m    \u001b[49m\u001b[43mmetadata\u001b[49m\u001b[43m=\u001b[49m\u001b[43mmetadata\u001b[49m\u001b[43m,\u001b[49m\n\u001b[32m   2294\u001b[39m \u001b[43m\u001b[49m\u001b[43m)\u001b[49m\n\u001b[32m   2296\u001b[39m \u001b[38;5;66;03m# Done; return the response.\u001b[39;00m\n\u001b[32m   2297\u001b[39m \u001b[38;5;28;01mreturn\u001b[39;00m response\n",
      "\u001b[36mFile \u001b[39m\u001b[32mc:\\Users\\Rémi\\AppData\\Local\\Programs\\Python\\Python312\\Lib\\site-packages\\google\\api_core\\gapic_v1\\method.py:131\u001b[39m, in \u001b[36m_GapicCallable.__call__\u001b[39m\u001b[34m(self, timeout, retry, compression, *args, **kwargs)\u001b[39m\n\u001b[32m    128\u001b[39m \u001b[38;5;28;01mif\u001b[39;00m \u001b[38;5;28mself\u001b[39m._compression \u001b[38;5;129;01mis\u001b[39;00m \u001b[38;5;129;01mnot\u001b[39;00m \u001b[38;5;28;01mNone\u001b[39;00m:\n\u001b[32m    129\u001b[39m     kwargs[\u001b[33m\"\u001b[39m\u001b[33mcompression\u001b[39m\u001b[33m\"\u001b[39m] = compression\n\u001b[32m--> \u001b[39m\u001b[32m131\u001b[39m \u001b[38;5;28;01mreturn\u001b[39;00m \u001b[43mwrapped_func\u001b[49m\u001b[43m(\u001b[49m\u001b[43m*\u001b[49m\u001b[43margs\u001b[49m\u001b[43m,\u001b[49m\u001b[43m \u001b[49m\u001b[43m*\u001b[49m\u001b[43m*\u001b[49m\u001b[43mkwargs\u001b[49m\u001b[43m)\u001b[49m\n",
      "\u001b[36mFile \u001b[39m\u001b[32mc:\\Users\\Rémi\\AppData\\Local\\Programs\\Python\\Python312\\Lib\\site-packages\\google\\api_core\\grpc_helpers.py:76\u001b[39m, in \u001b[36m_wrap_unary_errors.<locals>.error_remapped_callable\u001b[39m\u001b[34m(*args, **kwargs)\u001b[39m\n\u001b[32m     73\u001b[39m \u001b[38;5;129m@functools\u001b[39m.wraps(callable_)\n\u001b[32m     74\u001b[39m \u001b[38;5;28;01mdef\u001b[39;00m\u001b[38;5;250m \u001b[39m\u001b[34merror_remapped_callable\u001b[39m(*args, **kwargs):\n\u001b[32m     75\u001b[39m     \u001b[38;5;28;01mtry\u001b[39;00m:\n\u001b[32m---> \u001b[39m\u001b[32m76\u001b[39m         \u001b[38;5;28;01mreturn\u001b[39;00m \u001b[43mcallable_\u001b[49m\u001b[43m(\u001b[49m\u001b[43m*\u001b[49m\u001b[43margs\u001b[49m\u001b[43m,\u001b[49m\u001b[43m \u001b[49m\u001b[43m*\u001b[49m\u001b[43m*\u001b[49m\u001b[43mkwargs\u001b[49m\u001b[43m)\u001b[49m\n\u001b[32m     77\u001b[39m     \u001b[38;5;28;01mexcept\u001b[39;00m grpc.RpcError \u001b[38;5;28;01mas\u001b[39;00m exc:\n\u001b[32m     78\u001b[39m         \u001b[38;5;28;01mraise\u001b[39;00m exceptions.from_grpc_error(exc) \u001b[38;5;28;01mfrom\u001b[39;00m\u001b[38;5;250m \u001b[39m\u001b[34;01mexc\u001b[39;00m\n",
      "\u001b[36mFile \u001b[39m\u001b[32mc:\\Users\\Rémi\\AppData\\Local\\Programs\\Python\\Python312\\Lib\\site-packages\\google\\cloud\\aiplatform_v1\\services\\prediction_service\\transports\\rest.py:1541\u001b[39m, in \u001b[36mPredictionServiceRestTransport._StreamGenerateContent.__call__\u001b[39m\u001b[34m(self, request, retry, timeout, metadata)\u001b[39m\n\u001b[32m   1535\u001b[39m query_params = _BasePredictionServiceRestTransport._BaseStreamGenerateContent._get_query_params_json(\n\u001b[32m   1536\u001b[39m     transcoded_request\n\u001b[32m   1537\u001b[39m )\n\u001b[32m   1539\u001b[39m \u001b[38;5;66;03m# Send the request\u001b[39;00m\n\u001b[32m   1540\u001b[39m response = (\n\u001b[32m-> \u001b[39m\u001b[32m1541\u001b[39m     \u001b[43mPredictionServiceRestTransport\u001b[49m\u001b[43m.\u001b[49m\u001b[43m_StreamGenerateContent\u001b[49m\u001b[43m.\u001b[49m\u001b[43m_get_response\u001b[49m\u001b[43m(\u001b[49m\n\u001b[32m   1542\u001b[39m \u001b[43m        \u001b[49m\u001b[38;5;28;43mself\u001b[39;49m\u001b[43m.\u001b[49m\u001b[43m_host\u001b[49m\u001b[43m,\u001b[49m\n\u001b[32m   1543\u001b[39m \u001b[43m        \u001b[49m\u001b[43mmetadata\u001b[49m\u001b[43m,\u001b[49m\n\u001b[32m   1544\u001b[39m \u001b[43m        \u001b[49m\u001b[43mquery_params\u001b[49m\u001b[43m,\u001b[49m\n\u001b[32m   1545\u001b[39m \u001b[43m        \u001b[49m\u001b[38;5;28;43mself\u001b[39;49m\u001b[43m.\u001b[49m\u001b[43m_session\u001b[49m\u001b[43m,\u001b[49m\n\u001b[32m   1546\u001b[39m \u001b[43m        \u001b[49m\u001b[43mtimeout\u001b[49m\u001b[43m,\u001b[49m\n\u001b[32m   1547\u001b[39m \u001b[43m        \u001b[49m\u001b[43mtranscoded_request\u001b[49m\u001b[43m,\u001b[49m\n\u001b[32m   1548\u001b[39m \u001b[43m        \u001b[49m\u001b[43mbody\u001b[49m\u001b[43m,\u001b[49m\n\u001b[32m   1549\u001b[39m \u001b[43m    \u001b[49m\u001b[43m)\u001b[49m\n\u001b[32m   1550\u001b[39m )\n\u001b[32m   1552\u001b[39m \u001b[38;5;66;03m# In case of error, raise the appropriate core_exceptions.GoogleAPICallError exception\u001b[39;00m\n\u001b[32m   1553\u001b[39m \u001b[38;5;66;03m# subclass.\u001b[39;00m\n\u001b[32m   1554\u001b[39m \u001b[38;5;28;01mif\u001b[39;00m response.status_code >= \u001b[32m400\u001b[39m:\n",
      "\u001b[36mFile \u001b[39m\u001b[32mc:\\Users\\Rémi\\AppData\\Local\\Programs\\Python\\Python312\\Lib\\site-packages\\google\\cloud\\aiplatform_v1\\services\\prediction_service\\transports\\rest.py:1484\u001b[39m, in \u001b[36mPredictionServiceRestTransport._StreamGenerateContent._get_response\u001b[39m\u001b[34m(host, metadata, query_params, session, timeout, transcoded_request, body)\u001b[39m\n\u001b[32m   1482\u001b[39m headers = \u001b[38;5;28mdict\u001b[39m(metadata)\n\u001b[32m   1483\u001b[39m headers[\u001b[33m\"\u001b[39m\u001b[33mContent-Type\u001b[39m\u001b[33m\"\u001b[39m] = \u001b[33m\"\u001b[39m\u001b[33mapplication/json\u001b[39m\u001b[33m\"\u001b[39m\n\u001b[32m-> \u001b[39m\u001b[32m1484\u001b[39m response = \u001b[38;5;28;43mgetattr\u001b[39;49m\u001b[43m(\u001b[49m\u001b[43msession\u001b[49m\u001b[43m,\u001b[49m\u001b[43m \u001b[49m\u001b[43mmethod\u001b[49m\u001b[43m)\u001b[49m\u001b[43m(\u001b[49m\n\u001b[32m   1485\u001b[39m \u001b[43m    \u001b[49m\u001b[33;43m\"\u001b[39;49m\u001b[38;5;132;43;01m{host}\u001b[39;49;00m\u001b[38;5;132;43;01m{uri}\u001b[39;49;00m\u001b[33;43m\"\u001b[39;49m\u001b[43m.\u001b[49m\u001b[43mformat\u001b[49m\u001b[43m(\u001b[49m\u001b[43mhost\u001b[49m\u001b[43m=\u001b[49m\u001b[43mhost\u001b[49m\u001b[43m,\u001b[49m\u001b[43m \u001b[49m\u001b[43muri\u001b[49m\u001b[43m=\u001b[49m\u001b[43muri\u001b[49m\u001b[43m)\u001b[49m\u001b[43m,\u001b[49m\n\u001b[32m   1486\u001b[39m \u001b[43m    \u001b[49m\u001b[43mtimeout\u001b[49m\u001b[43m=\u001b[49m\u001b[43mtimeout\u001b[49m\u001b[43m,\u001b[49m\n\u001b[32m   1487\u001b[39m \u001b[43m    \u001b[49m\u001b[43mheaders\u001b[49m\u001b[43m=\u001b[49m\u001b[43mheaders\u001b[49m\u001b[43m,\u001b[49m\n\u001b[32m   1488\u001b[39m \u001b[43m    \u001b[49m\u001b[43mparams\u001b[49m\u001b[43m=\u001b[49m\u001b[43mrest_helpers\u001b[49m\u001b[43m.\u001b[49m\u001b[43mflatten_query_params\u001b[49m\u001b[43m(\u001b[49m\u001b[43mquery_params\u001b[49m\u001b[43m,\u001b[49m\u001b[43m \u001b[49m\u001b[43mstrict\u001b[49m\u001b[43m=\u001b[49m\u001b[38;5;28;43;01mTrue\u001b[39;49;00m\u001b[43m)\u001b[49m\u001b[43m,\u001b[49m\n\u001b[32m   1489\u001b[39m \u001b[43m    \u001b[49m\u001b[43mdata\u001b[49m\u001b[43m=\u001b[49m\u001b[43mbody\u001b[49m\u001b[43m,\u001b[49m\n\u001b[32m   1490\u001b[39m \u001b[43m    \u001b[49m\u001b[43mstream\u001b[49m\u001b[43m=\u001b[49m\u001b[38;5;28;43;01mTrue\u001b[39;49;00m\u001b[43m,\u001b[49m\n\u001b[32m   1491\u001b[39m \u001b[43m\u001b[49m\u001b[43m)\u001b[49m\n\u001b[32m   1492\u001b[39m \u001b[38;5;28;01mreturn\u001b[39;00m response\n",
      "\u001b[36mFile \u001b[39m\u001b[32mc:\\Users\\Rémi\\AppData\\Local\\Programs\\Python\\Python312\\Lib\\site-packages\\requests\\sessions.py:637\u001b[39m, in \u001b[36mSession.post\u001b[39m\u001b[34m(self, url, data, json, **kwargs)\u001b[39m\n\u001b[32m    626\u001b[39m \u001b[38;5;28;01mdef\u001b[39;00m\u001b[38;5;250m \u001b[39m\u001b[34mpost\u001b[39m(\u001b[38;5;28mself\u001b[39m, url, data=\u001b[38;5;28;01mNone\u001b[39;00m, json=\u001b[38;5;28;01mNone\u001b[39;00m, **kwargs):\n\u001b[32m    627\u001b[39m \u001b[38;5;250m    \u001b[39m\u001b[33mr\u001b[39m\u001b[33;03m\"\"\"Sends a POST request. Returns :class:`Response` object.\u001b[39;00m\n\u001b[32m    628\u001b[39m \n\u001b[32m    629\u001b[39m \u001b[33;03m    :param url: URL for the new :class:`Request` object.\u001b[39;00m\n\u001b[32m   (...)\u001b[39m\u001b[32m    634\u001b[39m \u001b[33;03m    :rtype: requests.Response\u001b[39;00m\n\u001b[32m    635\u001b[39m \u001b[33;03m    \"\"\"\u001b[39;00m\n\u001b[32m--> \u001b[39m\u001b[32m637\u001b[39m     \u001b[38;5;28;01mreturn\u001b[39;00m \u001b[38;5;28;43mself\u001b[39;49m\u001b[43m.\u001b[49m\u001b[43mrequest\u001b[49m\u001b[43m(\u001b[49m\u001b[33;43m\"\u001b[39;49m\u001b[33;43mPOST\u001b[39;49m\u001b[33;43m\"\u001b[39;49m\u001b[43m,\u001b[49m\u001b[43m \u001b[49m\u001b[43murl\u001b[49m\u001b[43m,\u001b[49m\u001b[43m \u001b[49m\u001b[43mdata\u001b[49m\u001b[43m=\u001b[49m\u001b[43mdata\u001b[49m\u001b[43m,\u001b[49m\u001b[43m \u001b[49m\u001b[43mjson\u001b[49m\u001b[43m=\u001b[49m\u001b[43mjson\u001b[49m\u001b[43m,\u001b[49m\u001b[43m \u001b[49m\u001b[43m*\u001b[49m\u001b[43m*\u001b[49m\u001b[43mkwargs\u001b[49m\u001b[43m)\u001b[49m\n",
      "\u001b[36mFile \u001b[39m\u001b[32mc:\\Users\\Rémi\\AppData\\Local\\Programs\\Python\\Python312\\Lib\\site-packages\\google\\auth\\transport\\requests.py:540\u001b[39m, in \u001b[36mAuthorizedSession.request\u001b[39m\u001b[34m(self, method, url, data, headers, max_allowed_time, timeout, **kwargs)\u001b[39m\n\u001b[32m    538\u001b[39m \u001b[38;5;28;01mwith\u001b[39;00m TimeoutGuard(remaining_time) \u001b[38;5;28;01mas\u001b[39;00m guard:\n\u001b[32m    539\u001b[39m     _helpers.request_log(_LOGGER, method, url, data, headers)\n\u001b[32m--> \u001b[39m\u001b[32m540\u001b[39m     response = \u001b[38;5;28;43msuper\u001b[39;49m\u001b[43m(\u001b[49m\u001b[43mAuthorizedSession\u001b[49m\u001b[43m,\u001b[49m\u001b[43m \u001b[49m\u001b[38;5;28;43mself\u001b[39;49m\u001b[43m)\u001b[49m\u001b[43m.\u001b[49m\u001b[43mrequest\u001b[49m\u001b[43m(\u001b[49m\n\u001b[32m    541\u001b[39m \u001b[43m        \u001b[49m\u001b[43mmethod\u001b[49m\u001b[43m,\u001b[49m\n\u001b[32m    542\u001b[39m \u001b[43m        \u001b[49m\u001b[43murl\u001b[49m\u001b[43m,\u001b[49m\n\u001b[32m    543\u001b[39m \u001b[43m        \u001b[49m\u001b[43mdata\u001b[49m\u001b[43m=\u001b[49m\u001b[43mdata\u001b[49m\u001b[43m,\u001b[49m\n\u001b[32m    544\u001b[39m \u001b[43m        \u001b[49m\u001b[43mheaders\u001b[49m\u001b[43m=\u001b[49m\u001b[43mrequest_headers\u001b[49m\u001b[43m,\u001b[49m\n\u001b[32m    545\u001b[39m \u001b[43m        \u001b[49m\u001b[43mtimeout\u001b[49m\u001b[43m=\u001b[49m\u001b[43mtimeout\u001b[49m\u001b[43m,\u001b[49m\n\u001b[32m    546\u001b[39m \u001b[43m        \u001b[49m\u001b[43m*\u001b[49m\u001b[43m*\u001b[49m\u001b[43mkwargs\u001b[49m\n\u001b[32m    547\u001b[39m \u001b[43m    \u001b[49m\u001b[43m)\u001b[49m\n\u001b[32m    548\u001b[39m remaining_time = guard.remaining_timeout\n\u001b[32m    550\u001b[39m \u001b[38;5;66;03m# If the response indicated that the credentials needed to be\u001b[39;00m\n\u001b[32m    551\u001b[39m \u001b[38;5;66;03m# refreshed, then refresh the credentials and re-attempt the\u001b[39;00m\n\u001b[32m    552\u001b[39m \u001b[38;5;66;03m# request.\u001b[39;00m\n\u001b[32m    553\u001b[39m \u001b[38;5;66;03m# A stored token may expire between the time it is retrieved and\u001b[39;00m\n\u001b[32m    554\u001b[39m \u001b[38;5;66;03m# the time the request is made, so we may need to try twice.\u001b[39;00m\n",
      "\u001b[36mFile \u001b[39m\u001b[32mc:\\Users\\Rémi\\AppData\\Local\\Programs\\Python\\Python312\\Lib\\site-packages\\requests\\sessions.py:589\u001b[39m, in \u001b[36mSession.request\u001b[39m\u001b[34m(self, method, url, params, data, headers, cookies, files, auth, timeout, allow_redirects, proxies, hooks, stream, verify, cert, json)\u001b[39m\n\u001b[32m    584\u001b[39m send_kwargs = {\n\u001b[32m    585\u001b[39m     \u001b[33m\"\u001b[39m\u001b[33mtimeout\u001b[39m\u001b[33m\"\u001b[39m: timeout,\n\u001b[32m    586\u001b[39m     \u001b[33m\"\u001b[39m\u001b[33mallow_redirects\u001b[39m\u001b[33m\"\u001b[39m: allow_redirects,\n\u001b[32m    587\u001b[39m }\n\u001b[32m    588\u001b[39m send_kwargs.update(settings)\n\u001b[32m--> \u001b[39m\u001b[32m589\u001b[39m resp = \u001b[38;5;28;43mself\u001b[39;49m\u001b[43m.\u001b[49m\u001b[43msend\u001b[49m\u001b[43m(\u001b[49m\u001b[43mprep\u001b[49m\u001b[43m,\u001b[49m\u001b[43m \u001b[49m\u001b[43m*\u001b[49m\u001b[43m*\u001b[49m\u001b[43msend_kwargs\u001b[49m\u001b[43m)\u001b[49m\n\u001b[32m    591\u001b[39m \u001b[38;5;28;01mreturn\u001b[39;00m resp\n",
      "\u001b[36mFile \u001b[39m\u001b[32mc:\\Users\\Rémi\\AppData\\Local\\Programs\\Python\\Python312\\Lib\\site-packages\\requests\\sessions.py:703\u001b[39m, in \u001b[36mSession.send\u001b[39m\u001b[34m(self, request, **kwargs)\u001b[39m\n\u001b[32m    700\u001b[39m start = preferred_clock()\n\u001b[32m    702\u001b[39m \u001b[38;5;66;03m# Send the request\u001b[39;00m\n\u001b[32m--> \u001b[39m\u001b[32m703\u001b[39m r = \u001b[43madapter\u001b[49m\u001b[43m.\u001b[49m\u001b[43msend\u001b[49m\u001b[43m(\u001b[49m\u001b[43mrequest\u001b[49m\u001b[43m,\u001b[49m\u001b[43m \u001b[49m\u001b[43m*\u001b[49m\u001b[43m*\u001b[49m\u001b[43mkwargs\u001b[49m\u001b[43m)\u001b[49m\n\u001b[32m    705\u001b[39m \u001b[38;5;66;03m# Total elapsed time of the request (approximately)\u001b[39;00m\n\u001b[32m    706\u001b[39m elapsed = preferred_clock() - start\n",
      "\u001b[36mFile \u001b[39m\u001b[32mc:\\Users\\Rémi\\AppData\\Local\\Programs\\Python\\Python312\\Lib\\site-packages\\requests\\adapters.py:667\u001b[39m, in \u001b[36mHTTPAdapter.send\u001b[39m\u001b[34m(self, request, stream, timeout, verify, cert, proxies)\u001b[39m\n\u001b[32m    664\u001b[39m     timeout = TimeoutSauce(connect=timeout, read=timeout)\n\u001b[32m    666\u001b[39m \u001b[38;5;28;01mtry\u001b[39;00m:\n\u001b[32m--> \u001b[39m\u001b[32m667\u001b[39m     resp = \u001b[43mconn\u001b[49m\u001b[43m.\u001b[49m\u001b[43murlopen\u001b[49m\u001b[43m(\u001b[49m\n\u001b[32m    668\u001b[39m \u001b[43m        \u001b[49m\u001b[43mmethod\u001b[49m\u001b[43m=\u001b[49m\u001b[43mrequest\u001b[49m\u001b[43m.\u001b[49m\u001b[43mmethod\u001b[49m\u001b[43m,\u001b[49m\n\u001b[32m    669\u001b[39m \u001b[43m        \u001b[49m\u001b[43murl\u001b[49m\u001b[43m=\u001b[49m\u001b[43murl\u001b[49m\u001b[43m,\u001b[49m\n\u001b[32m    670\u001b[39m \u001b[43m        \u001b[49m\u001b[43mbody\u001b[49m\u001b[43m=\u001b[49m\u001b[43mrequest\u001b[49m\u001b[43m.\u001b[49m\u001b[43mbody\u001b[49m\u001b[43m,\u001b[49m\n\u001b[32m    671\u001b[39m \u001b[43m        \u001b[49m\u001b[43mheaders\u001b[49m\u001b[43m=\u001b[49m\u001b[43mrequest\u001b[49m\u001b[43m.\u001b[49m\u001b[43mheaders\u001b[49m\u001b[43m,\u001b[49m\n\u001b[32m    672\u001b[39m \u001b[43m        \u001b[49m\u001b[43mredirect\u001b[49m\u001b[43m=\u001b[49m\u001b[38;5;28;43;01mFalse\u001b[39;49;00m\u001b[43m,\u001b[49m\n\u001b[32m    673\u001b[39m \u001b[43m        \u001b[49m\u001b[43massert_same_host\u001b[49m\u001b[43m=\u001b[49m\u001b[38;5;28;43;01mFalse\u001b[39;49;00m\u001b[43m,\u001b[49m\n\u001b[32m    674\u001b[39m \u001b[43m        \u001b[49m\u001b[43mpreload_content\u001b[49m\u001b[43m=\u001b[49m\u001b[38;5;28;43;01mFalse\u001b[39;49;00m\u001b[43m,\u001b[49m\n\u001b[32m    675\u001b[39m \u001b[43m        \u001b[49m\u001b[43mdecode_content\u001b[49m\u001b[43m=\u001b[49m\u001b[38;5;28;43;01mFalse\u001b[39;49;00m\u001b[43m,\u001b[49m\n\u001b[32m    676\u001b[39m \u001b[43m        \u001b[49m\u001b[43mretries\u001b[49m\u001b[43m=\u001b[49m\u001b[38;5;28;43mself\u001b[39;49m\u001b[43m.\u001b[49m\u001b[43mmax_retries\u001b[49m\u001b[43m,\u001b[49m\n\u001b[32m    677\u001b[39m \u001b[43m        \u001b[49m\u001b[43mtimeout\u001b[49m\u001b[43m=\u001b[49m\u001b[43mtimeout\u001b[49m\u001b[43m,\u001b[49m\n\u001b[32m    678\u001b[39m \u001b[43m        \u001b[49m\u001b[43mchunked\u001b[49m\u001b[43m=\u001b[49m\u001b[43mchunked\u001b[49m\u001b[43m,\u001b[49m\n\u001b[32m    679\u001b[39m \u001b[43m    \u001b[49m\u001b[43m)\u001b[49m\n\u001b[32m    681\u001b[39m \u001b[38;5;28;01mexcept\u001b[39;00m (ProtocolError, \u001b[38;5;167;01mOSError\u001b[39;00m) \u001b[38;5;28;01mas\u001b[39;00m err:\n\u001b[32m    682\u001b[39m     \u001b[38;5;28;01mraise\u001b[39;00m \u001b[38;5;167;01mConnectionError\u001b[39;00m(err, request=request)\n",
      "\u001b[36mFile \u001b[39m\u001b[32mc:\\Users\\Rémi\\AppData\\Local\\Programs\\Python\\Python312\\Lib\\site-packages\\urllib3\\connectionpool.py:787\u001b[39m, in \u001b[36mHTTPConnectionPool.urlopen\u001b[39m\u001b[34m(self, method, url, body, headers, retries, redirect, assert_same_host, timeout, pool_timeout, release_conn, chunked, body_pos, preload_content, decode_content, **response_kw)\u001b[39m\n\u001b[32m    784\u001b[39m response_conn = conn \u001b[38;5;28;01mif\u001b[39;00m \u001b[38;5;129;01mnot\u001b[39;00m release_conn \u001b[38;5;28;01melse\u001b[39;00m \u001b[38;5;28;01mNone\u001b[39;00m\n\u001b[32m    786\u001b[39m \u001b[38;5;66;03m# Make the request on the HTTPConnection object\u001b[39;00m\n\u001b[32m--> \u001b[39m\u001b[32m787\u001b[39m response = \u001b[38;5;28;43mself\u001b[39;49m\u001b[43m.\u001b[49m\u001b[43m_make_request\u001b[49m\u001b[43m(\u001b[49m\n\u001b[32m    788\u001b[39m \u001b[43m    \u001b[49m\u001b[43mconn\u001b[49m\u001b[43m,\u001b[49m\n\u001b[32m    789\u001b[39m \u001b[43m    \u001b[49m\u001b[43mmethod\u001b[49m\u001b[43m,\u001b[49m\n\u001b[32m    790\u001b[39m \u001b[43m    \u001b[49m\u001b[43murl\u001b[49m\u001b[43m,\u001b[49m\n\u001b[32m    791\u001b[39m \u001b[43m    \u001b[49m\u001b[43mtimeout\u001b[49m\u001b[43m=\u001b[49m\u001b[43mtimeout_obj\u001b[49m\u001b[43m,\u001b[49m\n\u001b[32m    792\u001b[39m \u001b[43m    \u001b[49m\u001b[43mbody\u001b[49m\u001b[43m=\u001b[49m\u001b[43mbody\u001b[49m\u001b[43m,\u001b[49m\n\u001b[32m    793\u001b[39m \u001b[43m    \u001b[49m\u001b[43mheaders\u001b[49m\u001b[43m=\u001b[49m\u001b[43mheaders\u001b[49m\u001b[43m,\u001b[49m\n\u001b[32m    794\u001b[39m \u001b[43m    \u001b[49m\u001b[43mchunked\u001b[49m\u001b[43m=\u001b[49m\u001b[43mchunked\u001b[49m\u001b[43m,\u001b[49m\n\u001b[32m    795\u001b[39m \u001b[43m    \u001b[49m\u001b[43mretries\u001b[49m\u001b[43m=\u001b[49m\u001b[43mretries\u001b[49m\u001b[43m,\u001b[49m\n\u001b[32m    796\u001b[39m \u001b[43m    \u001b[49m\u001b[43mresponse_conn\u001b[49m\u001b[43m=\u001b[49m\u001b[43mresponse_conn\u001b[49m\u001b[43m,\u001b[49m\n\u001b[32m    797\u001b[39m \u001b[43m    \u001b[49m\u001b[43mpreload_content\u001b[49m\u001b[43m=\u001b[49m\u001b[43mpreload_content\u001b[49m\u001b[43m,\u001b[49m\n\u001b[32m    798\u001b[39m \u001b[43m    \u001b[49m\u001b[43mdecode_content\u001b[49m\u001b[43m=\u001b[49m\u001b[43mdecode_content\u001b[49m\u001b[43m,\u001b[49m\n\u001b[32m    799\u001b[39m \u001b[43m    \u001b[49m\u001b[43m*\u001b[49m\u001b[43m*\u001b[49m\u001b[43mresponse_kw\u001b[49m\u001b[43m,\u001b[49m\n\u001b[32m    800\u001b[39m \u001b[43m\u001b[49m\u001b[43m)\u001b[49m\n\u001b[32m    802\u001b[39m \u001b[38;5;66;03m# Everything went great!\u001b[39;00m\n\u001b[32m    803\u001b[39m clean_exit = \u001b[38;5;28;01mTrue\u001b[39;00m\n",
      "\u001b[36mFile \u001b[39m\u001b[32mc:\\Users\\Rémi\\AppData\\Local\\Programs\\Python\\Python312\\Lib\\site-packages\\urllib3\\connectionpool.py:534\u001b[39m, in \u001b[36mHTTPConnectionPool._make_request\u001b[39m\u001b[34m(self, conn, method, url, body, headers, retries, timeout, chunked, response_conn, preload_content, decode_content, enforce_content_length)\u001b[39m\n\u001b[32m    532\u001b[39m \u001b[38;5;66;03m# Receive the response from the server\u001b[39;00m\n\u001b[32m    533\u001b[39m \u001b[38;5;28;01mtry\u001b[39;00m:\n\u001b[32m--> \u001b[39m\u001b[32m534\u001b[39m     response = \u001b[43mconn\u001b[49m\u001b[43m.\u001b[49m\u001b[43mgetresponse\u001b[49m\u001b[43m(\u001b[49m\u001b[43m)\u001b[49m\n\u001b[32m    535\u001b[39m \u001b[38;5;28;01mexcept\u001b[39;00m (BaseSSLError, \u001b[38;5;167;01mOSError\u001b[39;00m) \u001b[38;5;28;01mas\u001b[39;00m e:\n\u001b[32m    536\u001b[39m     \u001b[38;5;28mself\u001b[39m._raise_timeout(err=e, url=url, timeout_value=read_timeout)\n",
      "\u001b[36mFile \u001b[39m\u001b[32mc:\\Users\\Rémi\\AppData\\Local\\Programs\\Python\\Python312\\Lib\\site-packages\\urllib3\\connection.py:516\u001b[39m, in \u001b[36mHTTPConnection.getresponse\u001b[39m\u001b[34m(self)\u001b[39m\n\u001b[32m    513\u001b[39m _shutdown = \u001b[38;5;28mgetattr\u001b[39m(\u001b[38;5;28mself\u001b[39m.sock, \u001b[33m\"\u001b[39m\u001b[33mshutdown\u001b[39m\u001b[33m\"\u001b[39m, \u001b[38;5;28;01mNone\u001b[39;00m)\n\u001b[32m    515\u001b[39m \u001b[38;5;66;03m# Get the response from http.client.HTTPConnection\u001b[39;00m\n\u001b[32m--> \u001b[39m\u001b[32m516\u001b[39m httplib_response = \u001b[38;5;28;43msuper\u001b[39;49m\u001b[43m(\u001b[49m\u001b[43m)\u001b[49m\u001b[43m.\u001b[49m\u001b[43mgetresponse\u001b[49m\u001b[43m(\u001b[49m\u001b[43m)\u001b[49m\n\u001b[32m    518\u001b[39m \u001b[38;5;28;01mtry\u001b[39;00m:\n\u001b[32m    519\u001b[39m     assert_header_parsing(httplib_response.msg)\n",
      "\u001b[36mFile \u001b[39m\u001b[32mc:\\Users\\Rémi\\AppData\\Local\\Programs\\Python\\Python312\\Lib\\http\\client.py:1423\u001b[39m, in \u001b[36mHTTPConnection.getresponse\u001b[39m\u001b[34m(self)\u001b[39m\n\u001b[32m   1421\u001b[39m \u001b[38;5;28;01mtry\u001b[39;00m:\n\u001b[32m   1422\u001b[39m     \u001b[38;5;28;01mtry\u001b[39;00m:\n\u001b[32m-> \u001b[39m\u001b[32m1423\u001b[39m         \u001b[43mresponse\u001b[49m\u001b[43m.\u001b[49m\u001b[43mbegin\u001b[49m\u001b[43m(\u001b[49m\u001b[43m)\u001b[49m\n\u001b[32m   1424\u001b[39m     \u001b[38;5;28;01mexcept\u001b[39;00m \u001b[38;5;167;01mConnectionError\u001b[39;00m:\n\u001b[32m   1425\u001b[39m         \u001b[38;5;28mself\u001b[39m.close()\n",
      "\u001b[36mFile \u001b[39m\u001b[32mc:\\Users\\Rémi\\AppData\\Local\\Programs\\Python\\Python312\\Lib\\http\\client.py:331\u001b[39m, in \u001b[36mHTTPResponse.begin\u001b[39m\u001b[34m(self)\u001b[39m\n\u001b[32m    329\u001b[39m \u001b[38;5;66;03m# read until we get a non-100 response\u001b[39;00m\n\u001b[32m    330\u001b[39m \u001b[38;5;28;01mwhile\u001b[39;00m \u001b[38;5;28;01mTrue\u001b[39;00m:\n\u001b[32m--> \u001b[39m\u001b[32m331\u001b[39m     version, status, reason = \u001b[38;5;28;43mself\u001b[39;49m\u001b[43m.\u001b[49m\u001b[43m_read_status\u001b[49m\u001b[43m(\u001b[49m\u001b[43m)\u001b[49m\n\u001b[32m    332\u001b[39m     \u001b[38;5;28;01mif\u001b[39;00m status != CONTINUE:\n\u001b[32m    333\u001b[39m         \u001b[38;5;28;01mbreak\u001b[39;00m\n",
      "\u001b[36mFile \u001b[39m\u001b[32mc:\\Users\\Rémi\\AppData\\Local\\Programs\\Python\\Python312\\Lib\\http\\client.py:292\u001b[39m, in \u001b[36mHTTPResponse._read_status\u001b[39m\u001b[34m(self)\u001b[39m\n\u001b[32m    291\u001b[39m \u001b[38;5;28;01mdef\u001b[39;00m\u001b[38;5;250m \u001b[39m\u001b[34m_read_status\u001b[39m(\u001b[38;5;28mself\u001b[39m):\n\u001b[32m--> \u001b[39m\u001b[32m292\u001b[39m     line = \u001b[38;5;28mstr\u001b[39m(\u001b[38;5;28;43mself\u001b[39;49m\u001b[43m.\u001b[49m\u001b[43mfp\u001b[49m\u001b[43m.\u001b[49m\u001b[43mreadline\u001b[49m\u001b[43m(\u001b[49m\u001b[43m_MAXLINE\u001b[49m\u001b[43m \u001b[49m\u001b[43m+\u001b[49m\u001b[43m \u001b[49m\u001b[32;43m1\u001b[39;49m\u001b[43m)\u001b[49m, \u001b[33m\"\u001b[39m\u001b[33miso-8859-1\u001b[39m\u001b[33m\"\u001b[39m)\n\u001b[32m    293\u001b[39m     \u001b[38;5;28;01mif\u001b[39;00m \u001b[38;5;28mlen\u001b[39m(line) > _MAXLINE:\n\u001b[32m    294\u001b[39m         \u001b[38;5;28;01mraise\u001b[39;00m LineTooLong(\u001b[33m\"\u001b[39m\u001b[33mstatus line\u001b[39m\u001b[33m\"\u001b[39m)\n",
      "\u001b[36mFile \u001b[39m\u001b[32mc:\\Users\\Rémi\\AppData\\Local\\Programs\\Python\\Python312\\Lib\\socket.py:707\u001b[39m, in \u001b[36mSocketIO.readinto\u001b[39m\u001b[34m(self, b)\u001b[39m\n\u001b[32m    705\u001b[39m \u001b[38;5;28;01mwhile\u001b[39;00m \u001b[38;5;28;01mTrue\u001b[39;00m:\n\u001b[32m    706\u001b[39m     \u001b[38;5;28;01mtry\u001b[39;00m:\n\u001b[32m--> \u001b[39m\u001b[32m707\u001b[39m         \u001b[38;5;28;01mreturn\u001b[39;00m \u001b[38;5;28;43mself\u001b[39;49m\u001b[43m.\u001b[49m\u001b[43m_sock\u001b[49m\u001b[43m.\u001b[49m\u001b[43mrecv_into\u001b[49m\u001b[43m(\u001b[49m\u001b[43mb\u001b[49m\u001b[43m)\u001b[49m\n\u001b[32m    708\u001b[39m     \u001b[38;5;28;01mexcept\u001b[39;00m timeout:\n\u001b[32m    709\u001b[39m         \u001b[38;5;28mself\u001b[39m._timeout_occurred = \u001b[38;5;28;01mTrue\u001b[39;00m\n",
      "\u001b[36mFile \u001b[39m\u001b[32mc:\\Users\\Rémi\\AppData\\Local\\Programs\\Python\\Python312\\Lib\\ssl.py:1252\u001b[39m, in \u001b[36mSSLSocket.recv_into\u001b[39m\u001b[34m(self, buffer, nbytes, flags)\u001b[39m\n\u001b[32m   1248\u001b[39m     \u001b[38;5;28;01mif\u001b[39;00m flags != \u001b[32m0\u001b[39m:\n\u001b[32m   1249\u001b[39m         \u001b[38;5;28;01mraise\u001b[39;00m \u001b[38;5;167;01mValueError\u001b[39;00m(\n\u001b[32m   1250\u001b[39m           \u001b[33m\"\u001b[39m\u001b[33mnon-zero flags not allowed in calls to recv_into() on \u001b[39m\u001b[38;5;132;01m%s\u001b[39;00m\u001b[33m\"\u001b[39m %\n\u001b[32m   1251\u001b[39m           \u001b[38;5;28mself\u001b[39m.\u001b[34m__class__\u001b[39m)\n\u001b[32m-> \u001b[39m\u001b[32m1252\u001b[39m     \u001b[38;5;28;01mreturn\u001b[39;00m \u001b[38;5;28;43mself\u001b[39;49m\u001b[43m.\u001b[49m\u001b[43mread\u001b[49m\u001b[43m(\u001b[49m\u001b[43mnbytes\u001b[49m\u001b[43m,\u001b[49m\u001b[43m \u001b[49m\u001b[43mbuffer\u001b[49m\u001b[43m)\u001b[49m\n\u001b[32m   1253\u001b[39m \u001b[38;5;28;01melse\u001b[39;00m:\n\u001b[32m   1254\u001b[39m     \u001b[38;5;28;01mreturn\u001b[39;00m \u001b[38;5;28msuper\u001b[39m().recv_into(buffer, nbytes, flags)\n",
      "\u001b[36mFile \u001b[39m\u001b[32mc:\\Users\\Rémi\\AppData\\Local\\Programs\\Python\\Python312\\Lib\\ssl.py:1104\u001b[39m, in \u001b[36mSSLSocket.read\u001b[39m\u001b[34m(self, len, buffer)\u001b[39m\n\u001b[32m   1102\u001b[39m \u001b[38;5;28;01mtry\u001b[39;00m:\n\u001b[32m   1103\u001b[39m     \u001b[38;5;28;01mif\u001b[39;00m buffer \u001b[38;5;129;01mis\u001b[39;00m \u001b[38;5;129;01mnot\u001b[39;00m \u001b[38;5;28;01mNone\u001b[39;00m:\n\u001b[32m-> \u001b[39m\u001b[32m1104\u001b[39m         \u001b[38;5;28;01mreturn\u001b[39;00m \u001b[38;5;28;43mself\u001b[39;49m\u001b[43m.\u001b[49m\u001b[43m_sslobj\u001b[49m\u001b[43m.\u001b[49m\u001b[43mread\u001b[49m\u001b[43m(\u001b[49m\u001b[38;5;28;43mlen\u001b[39;49m\u001b[43m,\u001b[49m\u001b[43m \u001b[49m\u001b[43mbuffer\u001b[49m\u001b[43m)\u001b[49m\n\u001b[32m   1105\u001b[39m     \u001b[38;5;28;01melse\u001b[39;00m:\n\u001b[32m   1106\u001b[39m         \u001b[38;5;28;01mreturn\u001b[39;00m \u001b[38;5;28mself\u001b[39m._sslobj.read(\u001b[38;5;28mlen\u001b[39m)\n",
      "\u001b[31mKeyboardInterrupt\u001b[39m: "
     ]
    }
   ],
   "source": [
    "import time\n",
    "\n",
    "prompt = \"\"\"\n",
    "Describe this image with less than 77 characters including spaces.\n",
    "\"\"\"\n",
    "\n",
    "for i in range(0, 48):\n",
    "    frame_nb = i\n",
    "    sample = f\"sample00000000{frame_nb}\"\n",
    "    frame_uri = f\"gs://pixar_bucket_test/sample00000000{frame_nb} - Copie.jpg\"\n",
    "    frame = Part.from_uri(frame_uri, mime_type=\"image/jpeg\")\n",
    "    contents = [frame, prompt]\n",
    "    try:\n",
    "        responses = multimodal_model.generate_content(contents, generation_config=generation_config, stream=True)\n",
    "        # On convertit le générateur en liste pour pouvoir l'utiliser plusieurs fois\n",
    "        responses_list = list(responses)\n",
    "        for response in responses_list:\n",
    "            if hasattr(response, \"text\"):\n",
    "                print(response.text)\n",
    "        caption = [response.text for response in responses_list if hasattr(response, \"text\")]\n",
    "    except Exception as e:\n",
    "        print(f\"Erreur pour {sample}: {e}\")\n",
    "        caption = [\"ERROR\"]\n",
    "    captions_list.append(caption)\n",
    "    sample_list.append(sample)\n",
    "    time.sleep(1)"
   ]
  },
  {
   "cell_type": "code",
   "execution_count": 51,
   "metadata": {},
   "outputs": [
    {
     "name": "stdout",
     "output_type": "stream",
     "text": [
      "[file_data {\n",
      "  mime_type: \"image/jpeg\"\n",
      "  file_uri: \"gs://pixar_bucket_test/sample00000000526 - Copie.jpg\"\n",
      "}\n",
      ", '\\nDescribe this image with less than 77 characters including spaces.\\n']\n"
     ]
    },
    {
     "ename": "AttributeError",
     "evalue": "'list' object has no attribute 'get'",
     "output_type": "error",
     "traceback": [
      "\u001b[31m---------------------------------------------------------------------------\u001b[39m",
      "\u001b[31mAttributeError\u001b[39m                            Traceback (most recent call last)",
      "\u001b[36mCell\u001b[39m\u001b[36m \u001b[39m\u001b[32mIn[51]\u001b[39m\u001b[32m, line 16\u001b[39m\n\u001b[32m     14\u001b[39m \u001b[38;5;28mprint\u001b[39m(contents)\n\u001b[32m     15\u001b[39m responses = multimodal_model.generate_content(contents, generation_config=generation_config, stream=\u001b[38;5;28;01mTrue\u001b[39;00m)\n\u001b[32m---> \u001b[39m\u001b[32m16\u001b[39m \u001b[43m\u001b[49m\u001b[38;5;28;43;01mfor\u001b[39;49;00m\u001b[43m \u001b[49m\u001b[43mresponse\u001b[49m\u001b[43m \u001b[49m\u001b[38;5;129;43;01min\u001b[39;49;00m\u001b[43m \u001b[49m\u001b[43mresponses\u001b[49m\u001b[43m:\u001b[49m\n\u001b[32m     17\u001b[39m \u001b[43m    \u001b[49m\u001b[38;5;28;43mprint\u001b[39;49m\u001b[43m(\u001b[49m\u001b[43mresponse\u001b[49m\u001b[43m.\u001b[49m\u001b[43mtext\u001b[49m\u001b[43m)\u001b[49m\n\u001b[32m     18\u001b[39m caption =[response.text \u001b[38;5;28;01mfor\u001b[39;00m response \u001b[38;5;129;01min\u001b[39;00m responses]\n",
      "\u001b[36mFile \u001b[39m\u001b[32mc:\\Users\\Rémi\\AppData\\Local\\Programs\\Python\\Python312\\Lib\\site-packages\\vertexai\\generative_models\\_generative_models.py:861\u001b[39m, in \u001b[36m_GenerativeModel._generate_content_streaming\u001b[39m\u001b[34m(self, contents, generation_config, safety_settings, tools, tool_config, labels)\u001b[39m\n\u001b[32m    834\u001b[39m \u001b[38;5;250m\u001b[39m\u001b[33;03m\"\"\"Generates content.\u001b[39;00m\n\u001b[32m    835\u001b[39m \n\u001b[32m    836\u001b[39m \u001b[33;03mArgs:\u001b[39;00m\n\u001b[32m   (...)\u001b[39m\u001b[32m    851\u001b[39m \u001b[33;03m    A stream of GenerationResponse objects\u001b[39;00m\n\u001b[32m    852\u001b[39m \u001b[33;03m\"\"\"\u001b[39;00m\n\u001b[32m    853\u001b[39m request = \u001b[38;5;28mself\u001b[39m._prepare_request(\n\u001b[32m    854\u001b[39m     contents=contents,\n\u001b[32m    855\u001b[39m     generation_config=generation_config,\n\u001b[32m   (...)\u001b[39m\u001b[32m    859\u001b[39m     labels=labels,\n\u001b[32m    860\u001b[39m )\n\u001b[32m--> \u001b[39m\u001b[32m861\u001b[39m response_stream = \u001b[38;5;28;43mself\u001b[39;49m\u001b[43m.\u001b[49m\u001b[43m_prediction_client\u001b[49m\u001b[43m.\u001b[49m\u001b[43mstream_generate_content\u001b[49m\u001b[43m(\u001b[49m\n\u001b[32m    862\u001b[39m \u001b[43m    \u001b[49m\u001b[43mrequest\u001b[49m\u001b[43m=\u001b[49m\u001b[43mrequest\u001b[49m\n\u001b[32m    863\u001b[39m \u001b[43m\u001b[49m\u001b[43m)\u001b[49m\n\u001b[32m    864\u001b[39m \u001b[38;5;28;01mfor\u001b[39;00m chunk \u001b[38;5;129;01min\u001b[39;00m response_stream:\n\u001b[32m    865\u001b[39m     \u001b[38;5;28;01myield\u001b[39;00m \u001b[38;5;28mself\u001b[39m._parse_response(chunk)\n",
      "\u001b[36mFile \u001b[39m\u001b[32mc:\\Users\\Rémi\\AppData\\Local\\Programs\\Python\\Python312\\Lib\\site-packages\\google\\cloud\\aiplatform_v1\\services\\prediction_service\\client.py:2289\u001b[39m, in \u001b[36mPredictionServiceClient.stream_generate_content\u001b[39m\u001b[34m(self, request, model, contents, retry, timeout, metadata)\u001b[39m\n\u001b[32m   2286\u001b[39m \u001b[38;5;28mself\u001b[39m._validate_universe_domain()\n\u001b[32m   2288\u001b[39m \u001b[38;5;66;03m# Send the request.\u001b[39;00m\n\u001b[32m-> \u001b[39m\u001b[32m2289\u001b[39m response = \u001b[43mrpc\u001b[49m\u001b[43m(\u001b[49m\n\u001b[32m   2290\u001b[39m \u001b[43m    \u001b[49m\u001b[43mrequest\u001b[49m\u001b[43m,\u001b[49m\n\u001b[32m   2291\u001b[39m \u001b[43m    \u001b[49m\u001b[43mretry\u001b[49m\u001b[43m=\u001b[49m\u001b[43mretry\u001b[49m\u001b[43m,\u001b[49m\n\u001b[32m   2292\u001b[39m \u001b[43m    \u001b[49m\u001b[43mtimeout\u001b[49m\u001b[43m=\u001b[49m\u001b[43mtimeout\u001b[49m\u001b[43m,\u001b[49m\n\u001b[32m   2293\u001b[39m \u001b[43m    \u001b[49m\u001b[43mmetadata\u001b[49m\u001b[43m=\u001b[49m\u001b[43mmetadata\u001b[49m\u001b[43m,\u001b[49m\n\u001b[32m   2294\u001b[39m \u001b[43m\u001b[49m\u001b[43m)\u001b[49m\n\u001b[32m   2296\u001b[39m \u001b[38;5;66;03m# Done; return the response.\u001b[39;00m\n\u001b[32m   2297\u001b[39m \u001b[38;5;28;01mreturn\u001b[39;00m response\n",
      "\u001b[36mFile \u001b[39m\u001b[32mc:\\Users\\Rémi\\AppData\\Local\\Programs\\Python\\Python312\\Lib\\site-packages\\google\\api_core\\gapic_v1\\method.py:131\u001b[39m, in \u001b[36m_GapicCallable.__call__\u001b[39m\u001b[34m(self, timeout, retry, compression, *args, **kwargs)\u001b[39m\n\u001b[32m    128\u001b[39m \u001b[38;5;28;01mif\u001b[39;00m \u001b[38;5;28mself\u001b[39m._compression \u001b[38;5;129;01mis\u001b[39;00m \u001b[38;5;129;01mnot\u001b[39;00m \u001b[38;5;28;01mNone\u001b[39;00m:\n\u001b[32m    129\u001b[39m     kwargs[\u001b[33m\"\u001b[39m\u001b[33mcompression\u001b[39m\u001b[33m\"\u001b[39m] = compression\n\u001b[32m--> \u001b[39m\u001b[32m131\u001b[39m \u001b[38;5;28;01mreturn\u001b[39;00m \u001b[43mwrapped_func\u001b[49m\u001b[43m(\u001b[49m\u001b[43m*\u001b[49m\u001b[43margs\u001b[49m\u001b[43m,\u001b[49m\u001b[43m \u001b[49m\u001b[43m*\u001b[49m\u001b[43m*\u001b[49m\u001b[43mkwargs\u001b[49m\u001b[43m)\u001b[49m\n",
      "\u001b[36mFile \u001b[39m\u001b[32mc:\\Users\\Rémi\\AppData\\Local\\Programs\\Python\\Python312\\Lib\\site-packages\\google\\api_core\\grpc_helpers.py:76\u001b[39m, in \u001b[36m_wrap_unary_errors.<locals>.error_remapped_callable\u001b[39m\u001b[34m(*args, **kwargs)\u001b[39m\n\u001b[32m     73\u001b[39m \u001b[38;5;129m@functools\u001b[39m.wraps(callable_)\n\u001b[32m     74\u001b[39m \u001b[38;5;28;01mdef\u001b[39;00m\u001b[38;5;250m \u001b[39m\u001b[34merror_remapped_callable\u001b[39m(*args, **kwargs):\n\u001b[32m     75\u001b[39m     \u001b[38;5;28;01mtry\u001b[39;00m:\n\u001b[32m---> \u001b[39m\u001b[32m76\u001b[39m         \u001b[38;5;28;01mreturn\u001b[39;00m \u001b[43mcallable_\u001b[49m\u001b[43m(\u001b[49m\u001b[43m*\u001b[49m\u001b[43margs\u001b[49m\u001b[43m,\u001b[49m\u001b[43m \u001b[49m\u001b[43m*\u001b[49m\u001b[43m*\u001b[49m\u001b[43mkwargs\u001b[49m\u001b[43m)\u001b[49m\n\u001b[32m     77\u001b[39m     \u001b[38;5;28;01mexcept\u001b[39;00m grpc.RpcError \u001b[38;5;28;01mas\u001b[39;00m exc:\n\u001b[32m     78\u001b[39m         \u001b[38;5;28;01mraise\u001b[39;00m exceptions.from_grpc_error(exc) \u001b[38;5;28;01mfrom\u001b[39;00m\u001b[38;5;250m \u001b[39m\u001b[34;01mexc\u001b[39;00m\n",
      "\u001b[36mFile \u001b[39m\u001b[32mc:\\Users\\Rémi\\AppData\\Local\\Programs\\Python\\Python312\\Lib\\site-packages\\google\\cloud\\aiplatform_v1\\services\\prediction_service\\transports\\rest.py:1555\u001b[39m, in \u001b[36mPredictionServiceRestTransport._StreamGenerateContent.__call__\u001b[39m\u001b[34m(self, request, retry, timeout, metadata)\u001b[39m\n\u001b[32m   1552\u001b[39m \u001b[38;5;66;03m# In case of error, raise the appropriate core_exceptions.GoogleAPICallError exception\u001b[39;00m\n\u001b[32m   1553\u001b[39m \u001b[38;5;66;03m# subclass.\u001b[39;00m\n\u001b[32m   1554\u001b[39m \u001b[38;5;28;01mif\u001b[39;00m response.status_code >= \u001b[32m400\u001b[39m:\n\u001b[32m-> \u001b[39m\u001b[32m1555\u001b[39m     \u001b[38;5;28;01mraise\u001b[39;00m \u001b[43mcore_exceptions\u001b[49m\u001b[43m.\u001b[49m\u001b[43mfrom_http_response\u001b[49m\u001b[43m(\u001b[49m\u001b[43mresponse\u001b[49m\u001b[43m)\u001b[49m\n\u001b[32m   1557\u001b[39m \u001b[38;5;66;03m# Return the response\u001b[39;00m\n\u001b[32m   1558\u001b[39m resp = rest_streaming.ResponseIterator(\n\u001b[32m   1559\u001b[39m     response, prediction_service.GenerateContentResponse\n\u001b[32m   1560\u001b[39m )\n",
      "\u001b[36mFile \u001b[39m\u001b[32mc:\\Users\\Rémi\\AppData\\Local\\Programs\\Python\\Python312\\Lib\\site-packages\\google\\api_core\\exceptions.py:556\u001b[39m, in \u001b[36mfrom_http_response\u001b[39m\u001b[34m(response)\u001b[39m\n\u001b[32m    554\u001b[39m \u001b[38;5;28;01mexcept\u001b[39;00m \u001b[38;5;167;01mValueError\u001b[39;00m:\n\u001b[32m    555\u001b[39m     payload = {\u001b[33m\"\u001b[39m\u001b[33merror\u001b[39m\u001b[33m\"\u001b[39m: {\u001b[33m\"\u001b[39m\u001b[33mmessage\u001b[39m\u001b[33m\"\u001b[39m: response.text \u001b[38;5;129;01mor\u001b[39;00m \u001b[33m\"\u001b[39m\u001b[33munknown error\u001b[39m\u001b[33m\"\u001b[39m}}\n\u001b[32m--> \u001b[39m\u001b[32m556\u001b[39m \u001b[38;5;28;01mreturn\u001b[39;00m \u001b[43mformat_http_response_error\u001b[49m\u001b[43m(\u001b[49m\n\u001b[32m    557\u001b[39m \u001b[43m    \u001b[49m\u001b[43mresponse\u001b[49m\u001b[43m,\u001b[49m\u001b[43m \u001b[49m\u001b[43mresponse\u001b[49m\u001b[43m.\u001b[49m\u001b[43mrequest\u001b[49m\u001b[43m.\u001b[49m\u001b[43mmethod\u001b[49m\u001b[43m,\u001b[49m\u001b[43m \u001b[49m\u001b[43mresponse\u001b[49m\u001b[43m.\u001b[49m\u001b[43mrequest\u001b[49m\u001b[43m.\u001b[49m\u001b[43murl\u001b[49m\u001b[43m,\u001b[49m\u001b[43m \u001b[49m\u001b[43mpayload\u001b[49m\n\u001b[32m    558\u001b[39m \u001b[43m\u001b[49m\u001b[43m)\u001b[49m\n",
      "\u001b[36mFile \u001b[39m\u001b[32mc:\\Users\\Rémi\\AppData\\Local\\Programs\\Python\\Python312\\Lib\\site-packages\\google\\api_core\\exceptions.py:516\u001b[39m, in \u001b[36mformat_http_response_error\u001b[39m\u001b[34m(response, method, url, payload)\u001b[39m\n\u001b[32m    502\u001b[39m \u001b[38;5;250m\u001b[39m\u001b[33;03m\"\"\"Create a :class:`GoogleAPICallError` from a google auth rest response.\u001b[39;00m\n\u001b[32m    503\u001b[39m \n\u001b[32m    504\u001b[39m \u001b[33;03mArgs:\u001b[39;00m\n\u001b[32m   (...)\u001b[39m\u001b[32m    513\u001b[39m \u001b[33;03m        from the response.\u001b[39;00m\n\u001b[32m    514\u001b[39m \u001b[33;03m\"\"\"\u001b[39;00m\n\u001b[32m    515\u001b[39m payload = {} \u001b[38;5;28;01mif\u001b[39;00m \u001b[38;5;129;01mnot\u001b[39;00m payload \u001b[38;5;28;01melse\u001b[39;00m payload\n\u001b[32m--> \u001b[39m\u001b[32m516\u001b[39m error_message = \u001b[43mpayload\u001b[49m\u001b[43m.\u001b[49m\u001b[43mget\u001b[49m(\u001b[33m\"\u001b[39m\u001b[33merror\u001b[39m\u001b[33m\"\u001b[39m, {}).get(\u001b[33m\"\u001b[39m\u001b[33mmessage\u001b[39m\u001b[33m\"\u001b[39m, \u001b[33m\"\u001b[39m\u001b[33munknown error\u001b[39m\u001b[33m\"\u001b[39m)\n\u001b[32m    517\u001b[39m errors = payload.get(\u001b[33m\"\u001b[39m\u001b[33merror\u001b[39m\u001b[33m\"\u001b[39m, {}).get(\u001b[33m\"\u001b[39m\u001b[33merrors\u001b[39m\u001b[33m\"\u001b[39m, ())\n\u001b[32m    518\u001b[39m \u001b[38;5;66;03m# In JSON, details are already formatted in developer-friendly way.\u001b[39;00m\n",
      "\u001b[31mAttributeError\u001b[39m: 'list' object has no attribute 'get'"
     ]
    }
   ],
   "source": [
    "import time\n",
    "\n",
    "prompt = \"\"\"\n",
    "Describe this image with less than 77 characters including spaces.\n",
    "\"\"\"\n",
    "\n",
    "#Generate a caption for every images in the bucket\n",
    "for i in range(526,828):\n",
    "    frame_nb = i\n",
    "    sample = f\"sample00000000{frame_nb}\"\n",
    "    frame_uri = f\"gs://pixar_bucket_test/sample00000000{frame_nb} - Copie.jpg\"\n",
    "    frame = Part.from_uri(frame_uri, mime_type=\"image/jpeg\")\n",
    "    contents = [frame, prompt]\n",
    "    print(contents)\n",
    "    responses = multimodal_model.generate_content(contents, generation_config=generation_config, stream=True)\n",
    "    for response in responses:\n",
    "        print(response.text)\n",
    "    caption =[response.text for response in responses]\n",
    "    captions_list.append(caption)\n",
    "    sample_list.append(sample)\n",
    "\n",
    "    # Introduce a delay to avoid exceeding the quota\n",
    "    time.sleep(1)  # Adjust the sleep duration as necessary"
   ]
  },
  {
   "cell_type": "code",
   "execution_count": 36,
   "metadata": {},
   "outputs": [
    {
     "ename": "AttributeError",
     "evalue": "'list' object has no attribute 'get'",
     "output_type": "error",
     "traceback": [
      "\u001b[31m---------------------------------------------------------------------------\u001b[39m",
      "\u001b[31mAttributeError\u001b[39m                            Traceback (most recent call last)",
      "\u001b[36mCell\u001b[39m\u001b[36m \u001b[39m\u001b[32mIn[36]\u001b[39m\u001b[32m, line 11\u001b[39m\n\u001b[32m      9\u001b[39m contents = [frame, prompt]\n\u001b[32m     10\u001b[39m responses = multimodal_model.generate_content(contents, generation_config=generation_config, stream=\u001b[38;5;28;01mTrue\u001b[39;00m)\n\u001b[32m---> \u001b[39m\u001b[32m11\u001b[39m caption =\u001b[43m[\u001b[49m\u001b[43mresponse\u001b[49m\u001b[43m.\u001b[49m\u001b[43mtext\u001b[49m\u001b[43m \u001b[49m\u001b[38;5;28;43;01mfor\u001b[39;49;00m\u001b[43m \u001b[49m\u001b[43mresponse\u001b[49m\u001b[43m \u001b[49m\u001b[38;5;129;43;01min\u001b[39;49;00m\u001b[43m \u001b[49m\u001b[43mresponses\u001b[49m\u001b[43m]\u001b[49m\n\u001b[32m     12\u001b[39m \u001b[38;5;28mprint\u001b[39m(caption)\n",
      "\u001b[36mFile \u001b[39m\u001b[32mc:\\Users\\Rémi\\AppData\\Local\\Programs\\Python\\Python312\\Lib\\site-packages\\vertexai\\generative_models\\_generative_models.py:861\u001b[39m, in \u001b[36m_GenerativeModel._generate_content_streaming\u001b[39m\u001b[34m(self, contents, generation_config, safety_settings, tools, tool_config, labels)\u001b[39m\n\u001b[32m    834\u001b[39m \u001b[38;5;250m\u001b[39m\u001b[33;03m\"\"\"Generates content.\u001b[39;00m\n\u001b[32m    835\u001b[39m \n\u001b[32m    836\u001b[39m \u001b[33;03mArgs:\u001b[39;00m\n\u001b[32m   (...)\u001b[39m\u001b[32m    851\u001b[39m \u001b[33;03m    A stream of GenerationResponse objects\u001b[39;00m\n\u001b[32m    852\u001b[39m \u001b[33;03m\"\"\"\u001b[39;00m\n\u001b[32m    853\u001b[39m request = \u001b[38;5;28mself\u001b[39m._prepare_request(\n\u001b[32m    854\u001b[39m     contents=contents,\n\u001b[32m    855\u001b[39m     generation_config=generation_config,\n\u001b[32m   (...)\u001b[39m\u001b[32m    859\u001b[39m     labels=labels,\n\u001b[32m    860\u001b[39m )\n\u001b[32m--> \u001b[39m\u001b[32m861\u001b[39m response_stream = \u001b[38;5;28;43mself\u001b[39;49m\u001b[43m.\u001b[49m\u001b[43m_prediction_client\u001b[49m\u001b[43m.\u001b[49m\u001b[43mstream_generate_content\u001b[49m\u001b[43m(\u001b[49m\n\u001b[32m    862\u001b[39m \u001b[43m    \u001b[49m\u001b[43mrequest\u001b[49m\u001b[43m=\u001b[49m\u001b[43mrequest\u001b[49m\n\u001b[32m    863\u001b[39m \u001b[43m\u001b[49m\u001b[43m)\u001b[49m\n\u001b[32m    864\u001b[39m \u001b[38;5;28;01mfor\u001b[39;00m chunk \u001b[38;5;129;01min\u001b[39;00m response_stream:\n\u001b[32m    865\u001b[39m     \u001b[38;5;28;01myield\u001b[39;00m \u001b[38;5;28mself\u001b[39m._parse_response(chunk)\n",
      "\u001b[36mFile \u001b[39m\u001b[32mc:\\Users\\Rémi\\AppData\\Local\\Programs\\Python\\Python312\\Lib\\site-packages\\google\\cloud\\aiplatform_v1\\services\\prediction_service\\client.py:2289\u001b[39m, in \u001b[36mPredictionServiceClient.stream_generate_content\u001b[39m\u001b[34m(self, request, model, contents, retry, timeout, metadata)\u001b[39m\n\u001b[32m   2286\u001b[39m \u001b[38;5;28mself\u001b[39m._validate_universe_domain()\n\u001b[32m   2288\u001b[39m \u001b[38;5;66;03m# Send the request.\u001b[39;00m\n\u001b[32m-> \u001b[39m\u001b[32m2289\u001b[39m response = \u001b[43mrpc\u001b[49m\u001b[43m(\u001b[49m\n\u001b[32m   2290\u001b[39m \u001b[43m    \u001b[49m\u001b[43mrequest\u001b[49m\u001b[43m,\u001b[49m\n\u001b[32m   2291\u001b[39m \u001b[43m    \u001b[49m\u001b[43mretry\u001b[49m\u001b[43m=\u001b[49m\u001b[43mretry\u001b[49m\u001b[43m,\u001b[49m\n\u001b[32m   2292\u001b[39m \u001b[43m    \u001b[49m\u001b[43mtimeout\u001b[49m\u001b[43m=\u001b[49m\u001b[43mtimeout\u001b[49m\u001b[43m,\u001b[49m\n\u001b[32m   2293\u001b[39m \u001b[43m    \u001b[49m\u001b[43mmetadata\u001b[49m\u001b[43m=\u001b[49m\u001b[43mmetadata\u001b[49m\u001b[43m,\u001b[49m\n\u001b[32m   2294\u001b[39m \u001b[43m\u001b[49m\u001b[43m)\u001b[49m\n\u001b[32m   2296\u001b[39m \u001b[38;5;66;03m# Done; return the response.\u001b[39;00m\n\u001b[32m   2297\u001b[39m \u001b[38;5;28;01mreturn\u001b[39;00m response\n",
      "\u001b[36mFile \u001b[39m\u001b[32mc:\\Users\\Rémi\\AppData\\Local\\Programs\\Python\\Python312\\Lib\\site-packages\\google\\api_core\\gapic_v1\\method.py:131\u001b[39m, in \u001b[36m_GapicCallable.__call__\u001b[39m\u001b[34m(self, timeout, retry, compression, *args, **kwargs)\u001b[39m\n\u001b[32m    128\u001b[39m \u001b[38;5;28;01mif\u001b[39;00m \u001b[38;5;28mself\u001b[39m._compression \u001b[38;5;129;01mis\u001b[39;00m \u001b[38;5;129;01mnot\u001b[39;00m \u001b[38;5;28;01mNone\u001b[39;00m:\n\u001b[32m    129\u001b[39m     kwargs[\u001b[33m\"\u001b[39m\u001b[33mcompression\u001b[39m\u001b[33m\"\u001b[39m] = compression\n\u001b[32m--> \u001b[39m\u001b[32m131\u001b[39m \u001b[38;5;28;01mreturn\u001b[39;00m \u001b[43mwrapped_func\u001b[49m\u001b[43m(\u001b[49m\u001b[43m*\u001b[49m\u001b[43margs\u001b[49m\u001b[43m,\u001b[49m\u001b[43m \u001b[49m\u001b[43m*\u001b[49m\u001b[43m*\u001b[49m\u001b[43mkwargs\u001b[49m\u001b[43m)\u001b[49m\n",
      "\u001b[36mFile \u001b[39m\u001b[32mc:\\Users\\Rémi\\AppData\\Local\\Programs\\Python\\Python312\\Lib\\site-packages\\google\\api_core\\grpc_helpers.py:76\u001b[39m, in \u001b[36m_wrap_unary_errors.<locals>.error_remapped_callable\u001b[39m\u001b[34m(*args, **kwargs)\u001b[39m\n\u001b[32m     73\u001b[39m \u001b[38;5;129m@functools\u001b[39m.wraps(callable_)\n\u001b[32m     74\u001b[39m \u001b[38;5;28;01mdef\u001b[39;00m\u001b[38;5;250m \u001b[39m\u001b[34merror_remapped_callable\u001b[39m(*args, **kwargs):\n\u001b[32m     75\u001b[39m     \u001b[38;5;28;01mtry\u001b[39;00m:\n\u001b[32m---> \u001b[39m\u001b[32m76\u001b[39m         \u001b[38;5;28;01mreturn\u001b[39;00m \u001b[43mcallable_\u001b[49m\u001b[43m(\u001b[49m\u001b[43m*\u001b[49m\u001b[43margs\u001b[49m\u001b[43m,\u001b[49m\u001b[43m \u001b[49m\u001b[43m*\u001b[49m\u001b[43m*\u001b[49m\u001b[43mkwargs\u001b[49m\u001b[43m)\u001b[49m\n\u001b[32m     77\u001b[39m     \u001b[38;5;28;01mexcept\u001b[39;00m grpc.RpcError \u001b[38;5;28;01mas\u001b[39;00m exc:\n\u001b[32m     78\u001b[39m         \u001b[38;5;28;01mraise\u001b[39;00m exceptions.from_grpc_error(exc) \u001b[38;5;28;01mfrom\u001b[39;00m\u001b[38;5;250m \u001b[39m\u001b[34;01mexc\u001b[39;00m\n",
      "\u001b[36mFile \u001b[39m\u001b[32mc:\\Users\\Rémi\\AppData\\Local\\Programs\\Python\\Python312\\Lib\\site-packages\\google\\cloud\\aiplatform_v1\\services\\prediction_service\\transports\\rest.py:1555\u001b[39m, in \u001b[36mPredictionServiceRestTransport._StreamGenerateContent.__call__\u001b[39m\u001b[34m(self, request, retry, timeout, metadata)\u001b[39m\n\u001b[32m   1552\u001b[39m \u001b[38;5;66;03m# In case of error, raise the appropriate core_exceptions.GoogleAPICallError exception\u001b[39;00m\n\u001b[32m   1553\u001b[39m \u001b[38;5;66;03m# subclass.\u001b[39;00m\n\u001b[32m   1554\u001b[39m \u001b[38;5;28;01mif\u001b[39;00m response.status_code >= \u001b[32m400\u001b[39m:\n\u001b[32m-> \u001b[39m\u001b[32m1555\u001b[39m     \u001b[38;5;28;01mraise\u001b[39;00m \u001b[43mcore_exceptions\u001b[49m\u001b[43m.\u001b[49m\u001b[43mfrom_http_response\u001b[49m\u001b[43m(\u001b[49m\u001b[43mresponse\u001b[49m\u001b[43m)\u001b[49m\n\u001b[32m   1557\u001b[39m \u001b[38;5;66;03m# Return the response\u001b[39;00m\n\u001b[32m   1558\u001b[39m resp = rest_streaming.ResponseIterator(\n\u001b[32m   1559\u001b[39m     response, prediction_service.GenerateContentResponse\n\u001b[32m   1560\u001b[39m )\n",
      "\u001b[36mFile \u001b[39m\u001b[32mc:\\Users\\Rémi\\AppData\\Local\\Programs\\Python\\Python312\\Lib\\site-packages\\google\\api_core\\exceptions.py:556\u001b[39m, in \u001b[36mfrom_http_response\u001b[39m\u001b[34m(response)\u001b[39m\n\u001b[32m    554\u001b[39m \u001b[38;5;28;01mexcept\u001b[39;00m \u001b[38;5;167;01mValueError\u001b[39;00m:\n\u001b[32m    555\u001b[39m     payload = {\u001b[33m\"\u001b[39m\u001b[33merror\u001b[39m\u001b[33m\"\u001b[39m: {\u001b[33m\"\u001b[39m\u001b[33mmessage\u001b[39m\u001b[33m\"\u001b[39m: response.text \u001b[38;5;129;01mor\u001b[39;00m \u001b[33m\"\u001b[39m\u001b[33munknown error\u001b[39m\u001b[33m\"\u001b[39m}}\n\u001b[32m--> \u001b[39m\u001b[32m556\u001b[39m \u001b[38;5;28;01mreturn\u001b[39;00m \u001b[43mformat_http_response_error\u001b[49m\u001b[43m(\u001b[49m\n\u001b[32m    557\u001b[39m \u001b[43m    \u001b[49m\u001b[43mresponse\u001b[49m\u001b[43m,\u001b[49m\u001b[43m \u001b[49m\u001b[43mresponse\u001b[49m\u001b[43m.\u001b[49m\u001b[43mrequest\u001b[49m\u001b[43m.\u001b[49m\u001b[43mmethod\u001b[49m\u001b[43m,\u001b[49m\u001b[43m \u001b[49m\u001b[43mresponse\u001b[49m\u001b[43m.\u001b[49m\u001b[43mrequest\u001b[49m\u001b[43m.\u001b[49m\u001b[43murl\u001b[49m\u001b[43m,\u001b[49m\u001b[43m \u001b[49m\u001b[43mpayload\u001b[49m\n\u001b[32m    558\u001b[39m \u001b[43m\u001b[49m\u001b[43m)\u001b[49m\n",
      "\u001b[36mFile \u001b[39m\u001b[32mc:\\Users\\Rémi\\AppData\\Local\\Programs\\Python\\Python312\\Lib\\site-packages\\google\\api_core\\exceptions.py:516\u001b[39m, in \u001b[36mformat_http_response_error\u001b[39m\u001b[34m(response, method, url, payload)\u001b[39m\n\u001b[32m    502\u001b[39m \u001b[38;5;250m\u001b[39m\u001b[33;03m\"\"\"Create a :class:`GoogleAPICallError` from a google auth rest response.\u001b[39;00m\n\u001b[32m    503\u001b[39m \n\u001b[32m    504\u001b[39m \u001b[33;03mArgs:\u001b[39;00m\n\u001b[32m   (...)\u001b[39m\u001b[32m    513\u001b[39m \u001b[33;03m        from the response.\u001b[39;00m\n\u001b[32m    514\u001b[39m \u001b[33;03m\"\"\"\u001b[39;00m\n\u001b[32m    515\u001b[39m payload = {} \u001b[38;5;28;01mif\u001b[39;00m \u001b[38;5;129;01mnot\u001b[39;00m payload \u001b[38;5;28;01melse\u001b[39;00m payload\n\u001b[32m--> \u001b[39m\u001b[32m516\u001b[39m error_message = \u001b[43mpayload\u001b[49m\u001b[43m.\u001b[49m\u001b[43mget\u001b[49m(\u001b[33m\"\u001b[39m\u001b[33merror\u001b[39m\u001b[33m\"\u001b[39m, {}).get(\u001b[33m\"\u001b[39m\u001b[33mmessage\u001b[39m\u001b[33m\"\u001b[39m, \u001b[33m\"\u001b[39m\u001b[33munknown error\u001b[39m\u001b[33m\"\u001b[39m)\n\u001b[32m    517\u001b[39m errors = payload.get(\u001b[33m\"\u001b[39m\u001b[33merror\u001b[39m\u001b[33m\"\u001b[39m, {}).get(\u001b[33m\"\u001b[39m\u001b[33merrors\u001b[39m\u001b[33m\"\u001b[39m, ())\n\u001b[32m    518\u001b[39m \u001b[38;5;66;03m# In JSON, details are already formatted in developer-friendly way.\u001b[39;00m\n",
      "\u001b[31mAttributeError\u001b[39m: 'list' object has no attribute 'get'"
     ]
    }
   ],
   "source": [
    "#test for 1 image:\n",
    "\n",
    "prompt = \"\"\"\n",
    "Describe this image with less than 77 characters including spaces.\n",
    "\"\"\"\n",
    "frame_nb = 526\n",
    "frame_uri = f\"gs://frames_vid/sample00000000{frame_nb}.jpg\" \n",
    "frame = Part.from_uri(frame_uri, mime_type=\"image/jpeg\")\n",
    "contents = [frame, prompt]\n",
    "responses = multimodal_model.generate_content(contents, generation_config=generation_config, stream=True)\n",
    "caption =[response.text for response in responses]\n",
    "print(caption)"
   ]
  },
  {
   "cell_type": "code",
   "execution_count": 34,
   "metadata": {},
   "outputs": [
    {
     "name": "stdout",
     "output_type": "stream",
     "text": [
      "Len caption_list: 827 Len sample_list: 827 Dernier element sample_list: sample00000000827\n"
     ]
    }
   ],
   "source": [
    "print(\"Len caption_list:\", len(captions_list), \"Len sample_list:\", len(sample_list), \"Dernier element sample_list:\", sample_list[-1])"
   ]
  },
  {
   "cell_type": "code",
   "execution_count": 35,
   "metadata": {},
   "outputs": [
    {
     "data": {
      "text/plain": [
       "[' A road cut through a rocky hill.', '']"
      ]
     },
     "execution_count": 35,
     "metadata": {},
     "output_type": "execute_result"
    }
   ],
   "source": [
    "captions_list[-1]"
   ]
  },
  {
   "cell_type": "code",
   "execution_count": null,
   "metadata": {},
   "outputs": [],
   "source": []
  },
  {
   "cell_type": "code",
   "execution_count": 36,
   "metadata": {},
   "outputs": [
    {
     "data": {
      "text/html": [
       "<div>\n",
       "<style scoped>\n",
       "    .dataframe tbody tr th:only-of-type {\n",
       "        vertical-align: middle;\n",
       "    }\n",
       "\n",
       "    .dataframe tbody tr th {\n",
       "        vertical-align: top;\n",
       "    }\n",
       "\n",
       "    .dataframe thead th {\n",
       "        text-align: right;\n",
       "    }\n",
       "</style>\n",
       "<table border=\"1\" class=\"dataframe\">\n",
       "  <thead>\n",
       "    <tr style=\"text-align: right;\">\n",
       "      <th></th>\n",
       "      <th>sampleID</th>\n",
       "      <th>caption</th>\n",
       "    </tr>\n",
       "  </thead>\n",
       "  <tbody>\n",
       "    <tr>\n",
       "      <th>0</th>\n",
       "      <td>sample000000000</td>\n",
       "      <td>[ A car is driving on a road next to the ocean...</td>\n",
       "    </tr>\n",
       "    <tr>\n",
       "      <th>1</th>\n",
       "      <td>sample000000001</td>\n",
       "      <td>[ A car is driving on a road next to the ocean...</td>\n",
       "    </tr>\n",
       "    <tr>\n",
       "      <th>2</th>\n",
       "      <td>sample000000002</td>\n",
       "      <td>[ A car is driving on a road next to the ocean...</td>\n",
       "    </tr>\n",
       "    <tr>\n",
       "      <th>3</th>\n",
       "      <td>sample000000003</td>\n",
       "      <td>[ A car is driving on a road next to the ocean...</td>\n",
       "    </tr>\n",
       "    <tr>\n",
       "      <th>4</th>\n",
       "      <td>sample000000004</td>\n",
       "      <td>[ A car is driving on a road next to the ocean...</td>\n",
       "    </tr>\n",
       "    <tr>\n",
       "      <th>...</th>\n",
       "      <td>...</td>\n",
       "      <td>...</td>\n",
       "    </tr>\n",
       "    <tr>\n",
       "      <th>822</th>\n",
       "      <td>sample00000000823</td>\n",
       "      <td>[ A road cut through a rocky hill., ]</td>\n",
       "    </tr>\n",
       "    <tr>\n",
       "      <th>823</th>\n",
       "      <td>sample00000000824</td>\n",
       "      <td>[ A road cut through a rock formation with a b...</td>\n",
       "    </tr>\n",
       "    <tr>\n",
       "      <th>824</th>\n",
       "      <td>sample00000000825</td>\n",
       "      <td>[ A road cut through a rock formation., ]</td>\n",
       "    </tr>\n",
       "    <tr>\n",
       "      <th>825</th>\n",
       "      <td>sample00000000826</td>\n",
       "      <td>[ A road cut through a rocky hill., ]</td>\n",
       "    </tr>\n",
       "    <tr>\n",
       "      <th>826</th>\n",
       "      <td>sample00000000827</td>\n",
       "      <td>[ A road cut through a rocky hill., ]</td>\n",
       "    </tr>\n",
       "  </tbody>\n",
       "</table>\n",
       "<p>827 rows × 2 columns</p>\n",
       "</div>"
      ],
      "text/plain": [
       "              sampleID                                            caption\n",
       "0      sample000000000  [ A car is driving on a road next to the ocean...\n",
       "1      sample000000001  [ A car is driving on a road next to the ocean...\n",
       "2      sample000000002  [ A car is driving on a road next to the ocean...\n",
       "3      sample000000003  [ A car is driving on a road next to the ocean...\n",
       "4      sample000000004  [ A car is driving on a road next to the ocean...\n",
       "..                 ...                                                ...\n",
       "822  sample00000000823              [ A road cut through a rocky hill., ]\n",
       "823  sample00000000824  [ A road cut through a rock formation with a b...\n",
       "824  sample00000000825          [ A road cut through a rock formation., ]\n",
       "825  sample00000000826              [ A road cut through a rocky hill., ]\n",
       "826  sample00000000827              [ A road cut through a rocky hill., ]\n",
       "\n",
       "[827 rows x 2 columns]"
      ]
     },
     "execution_count": 36,
     "metadata": {},
     "output_type": "execute_result"
    }
   ],
   "source": [
    "import pandas as pd\n",
    "captions_dict = {'sampleID' : sample_list, 'caption' : captions_list}\n",
    "captions_df = pd.DataFrame(captions_dict)\n",
    "captions_df"
   ]
  },
  {
   "cell_type": "code",
   "execution_count": 37,
   "metadata": {},
   "outputs": [],
   "source": [
    "captions_df.to_csv('C:/Users/hennecol/Documents/FMRI experiment/FINAL FOLDER/Lucas/MindBridge/data/natural-scenes-dataset/nsddata_stimuli/stimuli/nsd/annotations/captions77char.csv')"
   ]
  },
  {
   "cell_type": "code",
   "execution_count": 3,
   "metadata": {},
   "outputs": [],
   "source": [
    "captions_df = pd.read_csv(r\"E:\\MiB\\MindBridge\\data\\natural-scenes-dataset\\nsddata_stimuli\\stimuli\\nsd\\annotations\\captions77char.csv\")"
   ]
  },
  {
   "cell_type": "code",
   "execution_count": 5,
   "metadata": {},
   "outputs": [
    {
     "data": {
      "application/vnd.microsoft.datawrangler.viewer.v0+json": {
       "columns": [
        {
         "name": "index",
         "rawType": "int64",
         "type": "integer"
        },
        {
         "name": "sampleID",
         "rawType": "object",
         "type": "string"
        },
        {
         "name": "caption",
         "rawType": "object",
         "type": "string"
        }
       ],
       "ref": "ef070384-4d13-4bf6-8e3f-5b8a219af9b7",
       "rows": [
        [
         "0",
         "sample000000000",
         "A blank, dark grey background with no visible objects or details."
        ],
        [
         "1",
         "sample000000001",
         "Pixar Animation Studios logo with a blue gradient background and a lamp."
        ],
        [
         "2",
         "sample000000002",
         "Surreal sky scene with clouds and flying objects over a misty landscape."
        ],
        [
         "3",
         "sample000000003",
         "Animated character riding a giant creature in a fiery landscape."
        ],
        [
         "4",
         "sample000000004",
         "Blurry image with person reaching out to cloud-like structure, surreal and dreamy feel."
        ],
        [
         "5",
         "sample000000005",
         "A small brown puppy peeks through fluffy pink and white clouds."
        ],
        [
         "6",
         "sample000000006",
         "Pink cartoon pig with crown, sitting on cloud with friends."
        ],
        [
         "7",
         "sample000000007",
         "A stork carries a baby wrapped in a bundle through fluffy clouds."
        ],
        [
         "8",
         "sample000000008",
         "A whimsical scene with figures riding fluffy clouds in a pastel sky."
        ],
        [
         "9",
         "sample000000009",
         "A stone statue of a cow overlooks a cloudy, mystical landscape."
        ],
        [
         "10",
         "sample0000000010",
         "A fluffy brown cartoon character holding a toy with a sunny sky background."
        ],
        [
         "11",
         "sample0000000011",
         "A fluffy cloud character holding a small green creature in a cloudy sky."
        ],
        [
         "12",
         "sample0000000012",
         "Cloud creature watches a small person holding a flag in a dreamy sky."
        ],
        [
         "13",
         "sample0000000013",
         "Animated bird character with glasses flying through colorful clouds."
        ],
        [
         "14",
         "sample0000000014",
         "Animated alien character in a colorful, abstract environment."
        ],
        [
         "15",
         "sample0000000015",
         "A giant rock monster with a purple bird and yellow flowers in the sky."
        ],
        [
         "16",
         "sample0000000016",
         "A cartoon llama with sunglasses stands in colorful clouds holding a staff."
        ],
        [
         "17",
         "sample0000000017",
         "Clouds against blue sky."
        ],
        [
         "18",
         "sample0000000018",
         "Shea and a giant cloud creature float in a blue sky with fluffy clouds."
        ],
        [
         "19",
         "sample0000000019",
         "Cloud people in sky with fluffy clouds and blue background."
        ],
        [
         "20",
         "sample0000000020",
         "Blurry image of blue sky with fluffy white clouds and blurred landscape below."
        ],
        [
         "21",
         "sample0000000021",
         "A mouse rides a bird past a smiling cloud."
        ],
        [
         "22",
         "sample0000000022",
         "Pelican with a fish in its beak flying over a scenic landscape."
        ],
        [
         "23",
         "sample0000000023",
         "Animated character in clouds."
        ],
        [
         "24",
         "sample0000000024",
         "A horse stands on a cloud over a landscape."
        ],
        [
         "25",
         "sample0000000025",
         "Bird soaring above clouds, holding a small, colorful item in its talons."
        ],
        [
         "26",
         "sample0000000026",
         "A large gray creature holds a small orange creature against a blue sky backdrop."
        ],
        [
         "27",
         "sample0000000027",
         "A majestic eagle soaring through a cloudy sky with prey in its talons."
        ],
        [
         "28",
         "sample0000000028",
         "A hand holds a dandelion against a sunset backdrop."
        ],
        [
         "29",
         "sample0000000029",
         "Animated character flying with a jetpack in a colorful sky with clouds."
        ],
        [
         "30",
         "sample0000000030",
         "A smiling pink character sits on a cloud with a small bee on its shoulder."
        ],
        [
         "31",
         "sample0000000031",
         "A ghostly figure floats above outstretched fingers in a dark, misty setting."
        ],
        [
         "32",
         "sample0000000032",
         "Pink sky with a teddy bear cloud and a bird."
        ],
        [
         "33",
         "sample0000000033",
         "A fluffy creature in clouds, with a worried expression, and city lights below."
        ],
        [
         "34",
         "sample0000000034",
         "Brown bear on a cloud with lightning."
        ],
        [
         "35",
         "sample0000000035",
         "A fairy flying near fluffy pink clouds against a sunset sky."
        ],
        [
         "36",
         "sample0000000036",
         "A whimsical claymation character is perched on a floating island in the sky."
        ],
        [
         "37",
         "sample0000000037",
         "An animated character with a large head and furry body stands among fluffy clouds."
        ],
        [
         "38",
         "sample0000000038",
         "A bird perched on a person's hand against a sunset sky background."
        ],
        [
         "39",
         "sample0000000039",
         "Cybernetic bird soars through clouds in a futuristic skyline."
        ],
        [
         "40",
         "sample0000000040",
         "A warrior stands on a rocky hill under a dramatic, cloudy sky."
        ],
        [
         "41",
         "sample0000000041",
         "Character in football gear and armor flying through clouds on fire."
        ],
        [
         "42",
         "sample0000000042",
         "Animated warrior with blue hair and armor, standing amidst a fiery landscape."
        ],
        [
         "43",
         "sample0000000043",
         "A vibrant sunset with fluffy white clouds and a gradient orange sky."
        ],
        [
         "44",
         "sample0000000044",
         "A cloudy sky with names written in blue text over the clouds."
        ],
        [
         "45",
         "sample0000000045",
         "A list of names and titles on a cloudy background."
        ],
        [
         "46",
         "sample0000000046",
         "Cloud-themed credits list with names in different fonts and sizes."
        ],
        [
         "47",
         "sample0000000047",
         "Cloudy sky with pink and white clouds. Text overlay."
        ],
        [
         "48",
         "sample0000000048",
         "A blank, black image with no discernible content or details."
        ]
       ],
       "shape": {
        "columns": 2,
        "rows": 49
       }
      },
      "text/html": [
       "<div>\n",
       "<style scoped>\n",
       "    .dataframe tbody tr th:only-of-type {\n",
       "        vertical-align: middle;\n",
       "    }\n",
       "\n",
       "    .dataframe tbody tr th {\n",
       "        vertical-align: top;\n",
       "    }\n",
       "\n",
       "    .dataframe thead th {\n",
       "        text-align: right;\n",
       "    }\n",
       "</style>\n",
       "<table border=\"1\" class=\"dataframe\">\n",
       "  <thead>\n",
       "    <tr style=\"text-align: right;\">\n",
       "      <th></th>\n",
       "      <th>sampleID</th>\n",
       "      <th>caption</th>\n",
       "    </tr>\n",
       "  </thead>\n",
       "  <tbody>\n",
       "    <tr>\n",
       "      <th>0</th>\n",
       "      <td>sample000000000</td>\n",
       "      <td>A blank, dark grey background with no visible ...</td>\n",
       "    </tr>\n",
       "    <tr>\n",
       "      <th>1</th>\n",
       "      <td>sample000000001</td>\n",
       "      <td>Pixar Animation Studios logo with a blue gradi...</td>\n",
       "    </tr>\n",
       "    <tr>\n",
       "      <th>2</th>\n",
       "      <td>sample000000002</td>\n",
       "      <td>Surreal sky scene with clouds and flying objec...</td>\n",
       "    </tr>\n",
       "    <tr>\n",
       "      <th>3</th>\n",
       "      <td>sample000000003</td>\n",
       "      <td>Animated character riding a giant creature in ...</td>\n",
       "    </tr>\n",
       "    <tr>\n",
       "      <th>4</th>\n",
       "      <td>sample000000004</td>\n",
       "      <td>Blurry image with person reaching out to cloud...</td>\n",
       "    </tr>\n",
       "    <tr>\n",
       "      <th>5</th>\n",
       "      <td>sample000000005</td>\n",
       "      <td>A small brown puppy peeks through fluffy pink ...</td>\n",
       "    </tr>\n",
       "    <tr>\n",
       "      <th>6</th>\n",
       "      <td>sample000000006</td>\n",
       "      <td>Pink cartoon pig with crown, sitting on cloud ...</td>\n",
       "    </tr>\n",
       "    <tr>\n",
       "      <th>7</th>\n",
       "      <td>sample000000007</td>\n",
       "      <td>A stork carries a baby wrapped in a bundle thr...</td>\n",
       "    </tr>\n",
       "    <tr>\n",
       "      <th>8</th>\n",
       "      <td>sample000000008</td>\n",
       "      <td>A whimsical scene with figures riding fluffy c...</td>\n",
       "    </tr>\n",
       "    <tr>\n",
       "      <th>9</th>\n",
       "      <td>sample000000009</td>\n",
       "      <td>A stone statue of a cow overlooks a cloudy, my...</td>\n",
       "    </tr>\n",
       "    <tr>\n",
       "      <th>10</th>\n",
       "      <td>sample0000000010</td>\n",
       "      <td>A fluffy brown cartoon character holding a toy...</td>\n",
       "    </tr>\n",
       "    <tr>\n",
       "      <th>11</th>\n",
       "      <td>sample0000000011</td>\n",
       "      <td>A fluffy cloud character holding a small green...</td>\n",
       "    </tr>\n",
       "    <tr>\n",
       "      <th>12</th>\n",
       "      <td>sample0000000012</td>\n",
       "      <td>Cloud creature watches a small person holding ...</td>\n",
       "    </tr>\n",
       "    <tr>\n",
       "      <th>13</th>\n",
       "      <td>sample0000000013</td>\n",
       "      <td>Animated bird character with glasses flying th...</td>\n",
       "    </tr>\n",
       "    <tr>\n",
       "      <th>14</th>\n",
       "      <td>sample0000000014</td>\n",
       "      <td>Animated alien character in a colorful, abstra...</td>\n",
       "    </tr>\n",
       "    <tr>\n",
       "      <th>15</th>\n",
       "      <td>sample0000000015</td>\n",
       "      <td>A giant rock monster with a purple bird and ye...</td>\n",
       "    </tr>\n",
       "    <tr>\n",
       "      <th>16</th>\n",
       "      <td>sample0000000016</td>\n",
       "      <td>A cartoon llama with sunglasses stands in colo...</td>\n",
       "    </tr>\n",
       "    <tr>\n",
       "      <th>17</th>\n",
       "      <td>sample0000000017</td>\n",
       "      <td>Clouds against blue sky.</td>\n",
       "    </tr>\n",
       "    <tr>\n",
       "      <th>18</th>\n",
       "      <td>sample0000000018</td>\n",
       "      <td>Shea and a giant cloud creature float in a blu...</td>\n",
       "    </tr>\n",
       "    <tr>\n",
       "      <th>19</th>\n",
       "      <td>sample0000000019</td>\n",
       "      <td>Cloud people in sky with fluffy clouds and blu...</td>\n",
       "    </tr>\n",
       "    <tr>\n",
       "      <th>20</th>\n",
       "      <td>sample0000000020</td>\n",
       "      <td>Blurry image of blue sky with fluffy white clo...</td>\n",
       "    </tr>\n",
       "    <tr>\n",
       "      <th>21</th>\n",
       "      <td>sample0000000021</td>\n",
       "      <td>A mouse rides a bird past a smiling cloud.</td>\n",
       "    </tr>\n",
       "    <tr>\n",
       "      <th>22</th>\n",
       "      <td>sample0000000022</td>\n",
       "      <td>Pelican with a fish in its beak flying over a ...</td>\n",
       "    </tr>\n",
       "    <tr>\n",
       "      <th>23</th>\n",
       "      <td>sample0000000023</td>\n",
       "      <td>Animated character in clouds.</td>\n",
       "    </tr>\n",
       "    <tr>\n",
       "      <th>24</th>\n",
       "      <td>sample0000000024</td>\n",
       "      <td>A horse stands on a cloud over a landscape.</td>\n",
       "    </tr>\n",
       "    <tr>\n",
       "      <th>25</th>\n",
       "      <td>sample0000000025</td>\n",
       "      <td>Bird soaring above clouds, holding a small, co...</td>\n",
       "    </tr>\n",
       "    <tr>\n",
       "      <th>26</th>\n",
       "      <td>sample0000000026</td>\n",
       "      <td>A large gray creature holds a small orange cre...</td>\n",
       "    </tr>\n",
       "    <tr>\n",
       "      <th>27</th>\n",
       "      <td>sample0000000027</td>\n",
       "      <td>A majestic eagle soaring through a cloudy sky ...</td>\n",
       "    </tr>\n",
       "    <tr>\n",
       "      <th>28</th>\n",
       "      <td>sample0000000028</td>\n",
       "      <td>A hand holds a dandelion against a sunset back...</td>\n",
       "    </tr>\n",
       "    <tr>\n",
       "      <th>29</th>\n",
       "      <td>sample0000000029</td>\n",
       "      <td>Animated character flying with a jetpack in a ...</td>\n",
       "    </tr>\n",
       "    <tr>\n",
       "      <th>30</th>\n",
       "      <td>sample0000000030</td>\n",
       "      <td>A smiling pink character sits on a cloud with ...</td>\n",
       "    </tr>\n",
       "    <tr>\n",
       "      <th>31</th>\n",
       "      <td>sample0000000031</td>\n",
       "      <td>A ghostly figure floats above outstretched fin...</td>\n",
       "    </tr>\n",
       "    <tr>\n",
       "      <th>32</th>\n",
       "      <td>sample0000000032</td>\n",
       "      <td>Pink sky with a teddy bear cloud and a bird.</td>\n",
       "    </tr>\n",
       "    <tr>\n",
       "      <th>33</th>\n",
       "      <td>sample0000000033</td>\n",
       "      <td>A fluffy creature in clouds, with a worried ex...</td>\n",
       "    </tr>\n",
       "    <tr>\n",
       "      <th>34</th>\n",
       "      <td>sample0000000034</td>\n",
       "      <td>Brown bear on a cloud with lightning.</td>\n",
       "    </tr>\n",
       "    <tr>\n",
       "      <th>35</th>\n",
       "      <td>sample0000000035</td>\n",
       "      <td>A fairy flying near fluffy pink clouds against...</td>\n",
       "    </tr>\n",
       "    <tr>\n",
       "      <th>36</th>\n",
       "      <td>sample0000000036</td>\n",
       "      <td>A whimsical claymation character is perched on...</td>\n",
       "    </tr>\n",
       "    <tr>\n",
       "      <th>37</th>\n",
       "      <td>sample0000000037</td>\n",
       "      <td>An animated character with a large head and fu...</td>\n",
       "    </tr>\n",
       "    <tr>\n",
       "      <th>38</th>\n",
       "      <td>sample0000000038</td>\n",
       "      <td>A bird perched on a person's hand against a su...</td>\n",
       "    </tr>\n",
       "    <tr>\n",
       "      <th>39</th>\n",
       "      <td>sample0000000039</td>\n",
       "      <td>Cybernetic bird soars through clouds in a futu...</td>\n",
       "    </tr>\n",
       "    <tr>\n",
       "      <th>40</th>\n",
       "      <td>sample0000000040</td>\n",
       "      <td>A warrior stands on a rocky hill under a drama...</td>\n",
       "    </tr>\n",
       "    <tr>\n",
       "      <th>41</th>\n",
       "      <td>sample0000000041</td>\n",
       "      <td>Character in football gear and armor flying th...</td>\n",
       "    </tr>\n",
       "    <tr>\n",
       "      <th>42</th>\n",
       "      <td>sample0000000042</td>\n",
       "      <td>Animated warrior with blue hair and armor, sta...</td>\n",
       "    </tr>\n",
       "    <tr>\n",
       "      <th>43</th>\n",
       "      <td>sample0000000043</td>\n",
       "      <td>A vibrant sunset with fluffy white clouds and ...</td>\n",
       "    </tr>\n",
       "    <tr>\n",
       "      <th>44</th>\n",
       "      <td>sample0000000044</td>\n",
       "      <td>A cloudy sky with names written in blue text o...</td>\n",
       "    </tr>\n",
       "    <tr>\n",
       "      <th>45</th>\n",
       "      <td>sample0000000045</td>\n",
       "      <td>A list of names and titles on a cloudy backgro...</td>\n",
       "    </tr>\n",
       "    <tr>\n",
       "      <th>46</th>\n",
       "      <td>sample0000000046</td>\n",
       "      <td>Cloud-themed credits list with names in differ...</td>\n",
       "    </tr>\n",
       "    <tr>\n",
       "      <th>47</th>\n",
       "      <td>sample0000000047</td>\n",
       "      <td>Cloudy sky with pink and white clouds. Text ov...</td>\n",
       "    </tr>\n",
       "    <tr>\n",
       "      <th>48</th>\n",
       "      <td>sample0000000048</td>\n",
       "      <td>A blank, black image with no discernible conte...</td>\n",
       "    </tr>\n",
       "  </tbody>\n",
       "</table>\n",
       "</div>"
      ],
      "text/plain": [
       "            sampleID                                            caption\n",
       "0    sample000000000  A blank, dark grey background with no visible ...\n",
       "1    sample000000001  Pixar Animation Studios logo with a blue gradi...\n",
       "2    sample000000002  Surreal sky scene with clouds and flying objec...\n",
       "3    sample000000003  Animated character riding a giant creature in ...\n",
       "4    sample000000004  Blurry image with person reaching out to cloud...\n",
       "5    sample000000005  A small brown puppy peeks through fluffy pink ...\n",
       "6    sample000000006  Pink cartoon pig with crown, sitting on cloud ...\n",
       "7    sample000000007  A stork carries a baby wrapped in a bundle thr...\n",
       "8    sample000000008  A whimsical scene with figures riding fluffy c...\n",
       "9    sample000000009  A stone statue of a cow overlooks a cloudy, my...\n",
       "10  sample0000000010  A fluffy brown cartoon character holding a toy...\n",
       "11  sample0000000011  A fluffy cloud character holding a small green...\n",
       "12  sample0000000012  Cloud creature watches a small person holding ...\n",
       "13  sample0000000013  Animated bird character with glasses flying th...\n",
       "14  sample0000000014  Animated alien character in a colorful, abstra...\n",
       "15  sample0000000015  A giant rock monster with a purple bird and ye...\n",
       "16  sample0000000016  A cartoon llama with sunglasses stands in colo...\n",
       "17  sample0000000017                           Clouds against blue sky.\n",
       "18  sample0000000018  Shea and a giant cloud creature float in a blu...\n",
       "19  sample0000000019  Cloud people in sky with fluffy clouds and blu...\n",
       "20  sample0000000020  Blurry image of blue sky with fluffy white clo...\n",
       "21  sample0000000021         A mouse rides a bird past a smiling cloud.\n",
       "22  sample0000000022  Pelican with a fish in its beak flying over a ...\n",
       "23  sample0000000023                      Animated character in clouds.\n",
       "24  sample0000000024        A horse stands on a cloud over a landscape.\n",
       "25  sample0000000025  Bird soaring above clouds, holding a small, co...\n",
       "26  sample0000000026  A large gray creature holds a small orange cre...\n",
       "27  sample0000000027  A majestic eagle soaring through a cloudy sky ...\n",
       "28  sample0000000028  A hand holds a dandelion against a sunset back...\n",
       "29  sample0000000029  Animated character flying with a jetpack in a ...\n",
       "30  sample0000000030  A smiling pink character sits on a cloud with ...\n",
       "31  sample0000000031  A ghostly figure floats above outstretched fin...\n",
       "32  sample0000000032       Pink sky with a teddy bear cloud and a bird.\n",
       "33  sample0000000033  A fluffy creature in clouds, with a worried ex...\n",
       "34  sample0000000034              Brown bear on a cloud with lightning.\n",
       "35  sample0000000035  A fairy flying near fluffy pink clouds against...\n",
       "36  sample0000000036  A whimsical claymation character is perched on...\n",
       "37  sample0000000037  An animated character with a large head and fu...\n",
       "38  sample0000000038  A bird perched on a person's hand against a su...\n",
       "39  sample0000000039  Cybernetic bird soars through clouds in a futu...\n",
       "40  sample0000000040  A warrior stands on a rocky hill under a drama...\n",
       "41  sample0000000041  Character in football gear and armor flying th...\n",
       "42  sample0000000042  Animated warrior with blue hair and armor, sta...\n",
       "43  sample0000000043  A vibrant sunset with fluffy white clouds and ...\n",
       "44  sample0000000044  A cloudy sky with names written in blue text o...\n",
       "45  sample0000000045  A list of names and titles on a cloudy backgro...\n",
       "46  sample0000000046  Cloud-themed credits list with names in differ...\n",
       "47  sample0000000047  Cloudy sky with pink and white clouds. Text ov...\n",
       "48  sample0000000048  A blank, black image with no discernible conte..."
      ]
     },
     "execution_count": 5,
     "metadata": {},
     "output_type": "execute_result"
    }
   ],
   "source": [
    "import pandas as pd\n",
    "\n",
    "# Supposons que la colonne s'appelle 'sampleID'\n",
    "captions_df['sampleID'] = captions_df['sampleID'].str.replace('.jpg', '', regex=False)\n",
    "\n",
    "captions_df"
   ]
  },
  {
   "cell_type": "code",
   "execution_count": 6,
   "metadata": {},
   "outputs": [],
   "source": [
    "captions_df.to_csv(r\"E:\\MiB\\MindBridge\\data\\natural-scenes-dataset\\nsddata_stimuli\\stimuli\\nsd\\annotations\\captions77char.csv\")"
   ]
  },
  {
   "cell_type": "code",
   "execution_count": 7,
   "metadata": {},
   "outputs": [
    {
     "name": "stdout",
     "output_type": "stream",
     "text": [
      "[]\n"
     ]
    },
    {
     "name": "stderr",
     "output_type": "stream",
     "text": [
      "<>:8: SyntaxWarning: invalid escape sequence '\\d'\n",
      "<>:8: SyntaxWarning: invalid escape sequence '\\d'\n",
      "C:\\Users\\Rémi\\AppData\\Local\\Temp\\ipykernel_18204\\3228297796.py:8: SyntaxWarning: invalid escape sequence '\\d'\n",
      "  sample_numbers = samples.str.extract('(\\d+)$').astype(int)[0]\n"
     ]
    }
   ],
   "source": [
    "#List of the samples without caption, gemini unable to generate a caption for these images\n",
    "\n",
    "import pandas as pd\n",
    "\n",
    "samples = captions_df['sampleID']\n",
    "\n",
    "# Extract sample numbers\n",
    "sample_numbers = samples.str.extract('(\\d+)$').astype(int)[0]\n",
    "\n",
    "# Create a reference list of all expected numbers\n",
    "expected_numbers = set(range(sample_numbers.min(), sample_numbers.max() + 1))\n",
    "\n",
    "# Identify missing numbers\n",
    "missing_numbers = expected_numbers - set(sample_numbers)\n",
    "\n",
    "# Show missing numbers\n",
    "print(sorted(missing_numbers))\n"
   ]
  },
  {
   "cell_type": "code",
   "execution_count": 15,
   "metadata": {},
   "outputs": [],
   "source": [
    "# Function to transform data and put it into MindBridge input format\n",
    "def transform_dataframe(df):\n",
    "    transformed_data = []\n",
    "    for index, row in df.iterrows():\n",
    "        sample_number = int(row['sampleID'].split('sample')[-1])\n",
    "        caption = row['caption']\n",
    "        # caption = \" \".join(row['caption']).strip()  # Concatenate and remove leading and trailing spaces\n",
    "        # caption = \" \".join(caption.split())  # Remove extra spaces between words\n",
    "        new_entry = {\n",
    "            'image_id': 1000000 + sample_number,\n",
    "            'id': 1000000 + sample_number,\n",
    "            'caption': caption\n",
    "        }\n",
    "        transformed_data.append(new_entry)\n",
    "    return transformed_data"
   ]
  },
  {
   "cell_type": "code",
   "execution_count": 16,
   "metadata": {},
   "outputs": [],
   "source": [
    "result = transform_dataframe(captions_df)"
   ]
  },
  {
   "cell_type": "code",
   "execution_count": 17,
   "metadata": {},
   "outputs": [
    {
     "data": {
      "text/plain": [
       "{'image_id': 1000040,\n",
       " 'id': 1000040,\n",
       " 'caption': 'A warrior stands on a rocky hill under a dramatic, cloudy sky.'}"
      ]
     },
     "execution_count": 17,
     "metadata": {},
     "output_type": "execute_result"
    }
   ],
   "source": [
    "result[40]"
   ]
  },
  {
   "cell_type": "code",
   "execution_count": 18,
   "metadata": {},
   "outputs": [
    {
     "name": "stdout",
     "output_type": "stream",
     "text": [
      "Le fichier JSON a été enregistré à E:\\MiB\\MindBridge\\data\\natural-scenes-dataset\\nsddata_stimuli\\stimuli\\nsd\\annotations\\mycaptions77char.json\n"
     ]
    }
   ],
   "source": [
    "import json\n",
    "json_file_path = r\"E:\\MiB\\MindBridge\\data\\natural-scenes-dataset\\nsddata_stimuli\\stimuli\\nsd\\annotations\\mycaptions77char.json\"\n",
    "\n",
    "# Save the result as JSON\n",
    "with open(json_file_path, 'w', encoding='utf-8') as json_file:\n",
    "    json.dump(result, json_file, ensure_ascii=False, indent=4)\n",
    "\n",
    "# Confirmation of registration\n",
    "print(f\"Le fichier JSON a été enregistré à {json_file_path}\")"
   ]
  },
  {
   "cell_type": "code",
   "execution_count": 21,
   "metadata": {},
   "outputs": [
    {
     "name": "stdout",
     "output_type": "stream",
     "text": [
      "Le fichier JSON mis à jour a été enregistré à E:\\MiB\\MindBridge\\data\\natural-scenes-dataset\\nsddata_stimuli\\stimuli\\nsd\\annotations\\updated_captions77char_val2017.json\n"
     ]
    }
   ],
   "source": [
    "#Complete the json file with our annotations\n",
    "\n",
    "import json\n",
    "\n",
    "# JSON file paths\n",
    "generated_json_path = r\"E:\\MiB\\MindBridge\\data\\natural-scenes-dataset\\nsddata_stimuli\\stimuli\\nsd\\annotations\\mycaptions77char.json\"\n",
    "annotations_json_path = r\"E:\\MiB\\MindBridge\\data\\natural-scenes-dataset\\nsddata_stimuli\\stimuli\\nsd\\annotations\\captions_val2017.json\" #Change val and then train\n",
    "\n",
    "# Load the previously generated JSON file\n",
    "with open(generated_json_path, 'r', encoding='utf-8') as json_file:\n",
    "    generated_data = json.load(json_file)\n",
    "\n",
    "# Load the existing annotations JSON file\n",
    "with open(annotations_json_path, 'r', encoding='utf-8') as json_file:\n",
    "    annotations_data = json.load(json_file)\n",
    "\n",
    "# Add the new annotations to the annotations list\n",
    "annotations_data['annotations'].extend(generated_data)\n",
    "\n",
    "# Save updated JSON file\n",
    "output_file_path = r'E:\\MiB\\MindBridge\\data\\natural-scenes-dataset\\nsddata_stimuli\\stimuli\\nsd\\annotations\\updated_captions77char_val2017.json'\n",
    "with open(output_file_path, 'w', encoding='utf-8') as json_file:\n",
    "    json.dump(annotations_data, json_file, ensure_ascii=False, indent=4)\n",
    "\n",
    "# Confirmation of registration\n",
    "print(f\"Le fichier JSON mis à jour a été enregistré à {output_file_path}\")"
   ]
  },
  {
   "cell_type": "code",
   "execution_count": 22,
   "metadata": {},
   "outputs": [
    {
     "name": "stdout",
     "output_type": "stream",
     "text": [
      "{'image_id': 1000048, 'id': 1000048, 'caption': 'A blank, black image with no discernible content or details.'}\n"
     ]
    }
   ],
   "source": [
    "import json\n",
    "\n",
    "# Path to the train annotations file\n",
    "train_annotations_path =r'E:\\MiB\\MindBridge\\data\\natural-scenes-dataset\\nsddata_stimuli\\stimuli\\nsd\\annotations\\updated_captions77char_val2017.json'\n",
    "\n",
    "# Check if the file has the same structure\n",
    "try:\n",
    "    with open(train_annotations_path, 'r', encoding='utf-8') as json_file:\n",
    "        train_annotations_data = json.load(json_file)\n",
    "        print(train_annotations_data['annotations'][-1])\n",
    "except Exception as e:\n",
    "    print(f\"An error occurred: {e}\")\n"
   ]
  }
 ],
 "metadata": {
  "kernelspec": {
   "display_name": "Python 3",
   "language": "python",
   "name": "python3"
  },
  "language_info": {
   "codemirror_mode": {
    "name": "ipython",
    "version": 3
   },
   "file_extension": ".py",
   "mimetype": "text/x-python",
   "name": "python",
   "nbconvert_exporter": "python",
   "pygments_lexer": "ipython3",
   "version": "3.9.11"
  }
 },
 "nbformat": 4,
 "nbformat_minor": 2
}
